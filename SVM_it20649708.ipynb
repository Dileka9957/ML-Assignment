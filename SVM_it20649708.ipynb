{
  "nbformat": 4,
  "nbformat_minor": 0,
  "metadata": {
    "colab": {
      "provenance": [],
      "authorship_tag": "ABX9TyMajpqbOwX2IejW6Nrit760",
      "include_colab_link": true
    },
    "kernelspec": {
      "name": "python3",
      "display_name": "Python 3"
    },
    "language_info": {
      "name": "python"
    }
  },
  "cells": [
    {
      "cell_type": "markdown",
      "metadata": {
        "id": "view-in-github",
        "colab_type": "text"
      },
      "source": [
        "<a href=\"https://colab.research.google.com/github/Dileka9957/ML-Assignment/blob/IT20649708/SVM_it20649708.ipynb\" target=\"_parent\"><img src=\"https://colab.research.google.com/assets/colab-badge.svg\" alt=\"Open In Colab\"/></a>"
      ]
    },
    {
      "cell_type": "code",
      "source": [
        "import matplotlib.pyplot as plt\n",
        "\n",
        "from sklearn.metrics import classification_report\n",
        "from sklearn.svm import SVC\n",
        "from sklearn.model_selection import train_test_split\n",
        "from sklearn.metrics import accuracy_score\n",
        "from sklearn.preprocessing import StandardScaler\n",
        "from sklearn.impute import SimpleImputer"
      ],
      "metadata": {
        "id": "s6pWQOLZ-O8N"
      },
      "execution_count": 40,
      "outputs": []
    },
    {
      "cell_type": "markdown",
      "source": [
        "# **Load the Data Set**"
      ],
      "metadata": {
        "id": "-wn70wLr9gJk"
      }
    },
    {
      "cell_type": "code",
      "execution_count": 41,
      "metadata": {
        "id": "o7D8DGQ83CHC"
      },
      "outputs": [],
      "source": [
        "# Step 1: Fetching the Dataset\n",
        "# Assuming you have downloaded the dataset and saved it as \"kidney_disease.csv\" in your working directory\n",
        "\n",
        "# Step 2: Initial Exploration\n",
        "import pandas as pd\n",
        "\n",
        "# Load the dataset into a DataFrame\n",
        "data = pd.read_csv(\"kidney_disease.csv\")"
      ]
    },
    {
      "cell_type": "code",
      "source": [
        "# Display the first few rows of the dataset\n",
        "print(\"First few rows of the dataset:\")\n",
        "data.head()"
      ],
      "metadata": {
        "colab": {
          "base_uri": "https://localhost:8080/",
          "height": 253
        },
        "id": "8xj5KKQk3MHC",
        "outputId": "b9ced677-af64-48ba-84ae-152aea69c906"
      },
      "execution_count": 42,
      "outputs": [
        {
          "output_type": "stream",
          "name": "stdout",
          "text": [
            "First few rows of the dataset:\n"
          ]
        },
        {
          "output_type": "execute_result",
          "data": {
            "text/plain": [
              "   id   age    bp     sg   al   su     rbc        pc         pcc          ba  \\\n",
              "0   0  48.0  80.0  1.020  1.0  0.0     NaN    normal  notpresent  notpresent   \n",
              "1   1   7.0  50.0  1.020  4.0  0.0     NaN    normal  notpresent  notpresent   \n",
              "2   2  62.0  80.0  1.010  2.0  3.0  normal    normal  notpresent  notpresent   \n",
              "3   3  48.0  70.0  1.005  4.0  0.0  normal  abnormal     present  notpresent   \n",
              "4   4  51.0  80.0  1.010  2.0  0.0  normal    normal  notpresent  notpresent   \n",
              "\n",
              "   ...  pcv    wc   rc  htn   dm  cad appet   pe  ane classification  \n",
              "0  ...   44  7800  5.2  yes  yes   no  good   no   no            ckd  \n",
              "1  ...   38  6000  NaN   no   no   no  good   no   no            ckd  \n",
              "2  ...   31  7500  NaN   no  yes   no  poor   no  yes            ckd  \n",
              "3  ...   32  6700  3.9  yes   no   no  poor  yes  yes            ckd  \n",
              "4  ...   35  7300  4.6   no   no   no  good   no   no            ckd  \n",
              "\n",
              "[5 rows x 26 columns]"
            ],
            "text/html": [
              "\n",
              "  <div id=\"df-b4d44f9c-12a8-43b2-b7ec-fa84c708d632\" class=\"colab-df-container\">\n",
              "    <div>\n",
              "<style scoped>\n",
              "    .dataframe tbody tr th:only-of-type {\n",
              "        vertical-align: middle;\n",
              "    }\n",
              "\n",
              "    .dataframe tbody tr th {\n",
              "        vertical-align: top;\n",
              "    }\n",
              "\n",
              "    .dataframe thead th {\n",
              "        text-align: right;\n",
              "    }\n",
              "</style>\n",
              "<table border=\"1\" class=\"dataframe\">\n",
              "  <thead>\n",
              "    <tr style=\"text-align: right;\">\n",
              "      <th></th>\n",
              "      <th>id</th>\n",
              "      <th>age</th>\n",
              "      <th>bp</th>\n",
              "      <th>sg</th>\n",
              "      <th>al</th>\n",
              "      <th>su</th>\n",
              "      <th>rbc</th>\n",
              "      <th>pc</th>\n",
              "      <th>pcc</th>\n",
              "      <th>ba</th>\n",
              "      <th>...</th>\n",
              "      <th>pcv</th>\n",
              "      <th>wc</th>\n",
              "      <th>rc</th>\n",
              "      <th>htn</th>\n",
              "      <th>dm</th>\n",
              "      <th>cad</th>\n",
              "      <th>appet</th>\n",
              "      <th>pe</th>\n",
              "      <th>ane</th>\n",
              "      <th>classification</th>\n",
              "    </tr>\n",
              "  </thead>\n",
              "  <tbody>\n",
              "    <tr>\n",
              "      <th>0</th>\n",
              "      <td>0</td>\n",
              "      <td>48.0</td>\n",
              "      <td>80.0</td>\n",
              "      <td>1.020</td>\n",
              "      <td>1.0</td>\n",
              "      <td>0.0</td>\n",
              "      <td>NaN</td>\n",
              "      <td>normal</td>\n",
              "      <td>notpresent</td>\n",
              "      <td>notpresent</td>\n",
              "      <td>...</td>\n",
              "      <td>44</td>\n",
              "      <td>7800</td>\n",
              "      <td>5.2</td>\n",
              "      <td>yes</td>\n",
              "      <td>yes</td>\n",
              "      <td>no</td>\n",
              "      <td>good</td>\n",
              "      <td>no</td>\n",
              "      <td>no</td>\n",
              "      <td>ckd</td>\n",
              "    </tr>\n",
              "    <tr>\n",
              "      <th>1</th>\n",
              "      <td>1</td>\n",
              "      <td>7.0</td>\n",
              "      <td>50.0</td>\n",
              "      <td>1.020</td>\n",
              "      <td>4.0</td>\n",
              "      <td>0.0</td>\n",
              "      <td>NaN</td>\n",
              "      <td>normal</td>\n",
              "      <td>notpresent</td>\n",
              "      <td>notpresent</td>\n",
              "      <td>...</td>\n",
              "      <td>38</td>\n",
              "      <td>6000</td>\n",
              "      <td>NaN</td>\n",
              "      <td>no</td>\n",
              "      <td>no</td>\n",
              "      <td>no</td>\n",
              "      <td>good</td>\n",
              "      <td>no</td>\n",
              "      <td>no</td>\n",
              "      <td>ckd</td>\n",
              "    </tr>\n",
              "    <tr>\n",
              "      <th>2</th>\n",
              "      <td>2</td>\n",
              "      <td>62.0</td>\n",
              "      <td>80.0</td>\n",
              "      <td>1.010</td>\n",
              "      <td>2.0</td>\n",
              "      <td>3.0</td>\n",
              "      <td>normal</td>\n",
              "      <td>normal</td>\n",
              "      <td>notpresent</td>\n",
              "      <td>notpresent</td>\n",
              "      <td>...</td>\n",
              "      <td>31</td>\n",
              "      <td>7500</td>\n",
              "      <td>NaN</td>\n",
              "      <td>no</td>\n",
              "      <td>yes</td>\n",
              "      <td>no</td>\n",
              "      <td>poor</td>\n",
              "      <td>no</td>\n",
              "      <td>yes</td>\n",
              "      <td>ckd</td>\n",
              "    </tr>\n",
              "    <tr>\n",
              "      <th>3</th>\n",
              "      <td>3</td>\n",
              "      <td>48.0</td>\n",
              "      <td>70.0</td>\n",
              "      <td>1.005</td>\n",
              "      <td>4.0</td>\n",
              "      <td>0.0</td>\n",
              "      <td>normal</td>\n",
              "      <td>abnormal</td>\n",
              "      <td>present</td>\n",
              "      <td>notpresent</td>\n",
              "      <td>...</td>\n",
              "      <td>32</td>\n",
              "      <td>6700</td>\n",
              "      <td>3.9</td>\n",
              "      <td>yes</td>\n",
              "      <td>no</td>\n",
              "      <td>no</td>\n",
              "      <td>poor</td>\n",
              "      <td>yes</td>\n",
              "      <td>yes</td>\n",
              "      <td>ckd</td>\n",
              "    </tr>\n",
              "    <tr>\n",
              "      <th>4</th>\n",
              "      <td>4</td>\n",
              "      <td>51.0</td>\n",
              "      <td>80.0</td>\n",
              "      <td>1.010</td>\n",
              "      <td>2.0</td>\n",
              "      <td>0.0</td>\n",
              "      <td>normal</td>\n",
              "      <td>normal</td>\n",
              "      <td>notpresent</td>\n",
              "      <td>notpresent</td>\n",
              "      <td>...</td>\n",
              "      <td>35</td>\n",
              "      <td>7300</td>\n",
              "      <td>4.6</td>\n",
              "      <td>no</td>\n",
              "      <td>no</td>\n",
              "      <td>no</td>\n",
              "      <td>good</td>\n",
              "      <td>no</td>\n",
              "      <td>no</td>\n",
              "      <td>ckd</td>\n",
              "    </tr>\n",
              "  </tbody>\n",
              "</table>\n",
              "<p>5 rows × 26 columns</p>\n",
              "</div>\n",
              "    <div class=\"colab-df-buttons\">\n",
              "\n",
              "  <div class=\"colab-df-container\">\n",
              "    <button class=\"colab-df-convert\" onclick=\"convertToInteractive('df-b4d44f9c-12a8-43b2-b7ec-fa84c708d632')\"\n",
              "            title=\"Convert this dataframe to an interactive table.\"\n",
              "            style=\"display:none;\">\n",
              "\n",
              "  <svg xmlns=\"http://www.w3.org/2000/svg\" height=\"24px\" viewBox=\"0 -960 960 960\">\n",
              "    <path d=\"M120-120v-720h720v720H120Zm60-500h600v-160H180v160Zm220 220h160v-160H400v160Zm0 220h160v-160H400v160ZM180-400h160v-160H180v160Zm440 0h160v-160H620v160ZM180-180h160v-160H180v160Zm440 0h160v-160H620v160Z\"/>\n",
              "  </svg>\n",
              "    </button>\n",
              "\n",
              "  <style>\n",
              "    .colab-df-container {\n",
              "      display:flex;\n",
              "      gap: 12px;\n",
              "    }\n",
              "\n",
              "    .colab-df-convert {\n",
              "      background-color: #E8F0FE;\n",
              "      border: none;\n",
              "      border-radius: 50%;\n",
              "      cursor: pointer;\n",
              "      display: none;\n",
              "      fill: #1967D2;\n",
              "      height: 32px;\n",
              "      padding: 0 0 0 0;\n",
              "      width: 32px;\n",
              "    }\n",
              "\n",
              "    .colab-df-convert:hover {\n",
              "      background-color: #E2EBFA;\n",
              "      box-shadow: 0px 1px 2px rgba(60, 64, 67, 0.3), 0px 1px 3px 1px rgba(60, 64, 67, 0.15);\n",
              "      fill: #174EA6;\n",
              "    }\n",
              "\n",
              "    .colab-df-buttons div {\n",
              "      margin-bottom: 4px;\n",
              "    }\n",
              "\n",
              "    [theme=dark] .colab-df-convert {\n",
              "      background-color: #3B4455;\n",
              "      fill: #D2E3FC;\n",
              "    }\n",
              "\n",
              "    [theme=dark] .colab-df-convert:hover {\n",
              "      background-color: #434B5C;\n",
              "      box-shadow: 0px 1px 3px 1px rgba(0, 0, 0, 0.15);\n",
              "      filter: drop-shadow(0px 1px 2px rgba(0, 0, 0, 0.3));\n",
              "      fill: #FFFFFF;\n",
              "    }\n",
              "  </style>\n",
              "\n",
              "    <script>\n",
              "      const buttonEl =\n",
              "        document.querySelector('#df-b4d44f9c-12a8-43b2-b7ec-fa84c708d632 button.colab-df-convert');\n",
              "      buttonEl.style.display =\n",
              "        google.colab.kernel.accessAllowed ? 'block' : 'none';\n",
              "\n",
              "      async function convertToInteractive(key) {\n",
              "        const element = document.querySelector('#df-b4d44f9c-12a8-43b2-b7ec-fa84c708d632');\n",
              "        const dataTable =\n",
              "          await google.colab.kernel.invokeFunction('convertToInteractive',\n",
              "                                                    [key], {});\n",
              "        if (!dataTable) return;\n",
              "\n",
              "        const docLinkHtml = 'Like what you see? Visit the ' +\n",
              "          '<a target=\"_blank\" href=https://colab.research.google.com/notebooks/data_table.ipynb>data table notebook</a>'\n",
              "          + ' to learn more about interactive tables.';\n",
              "        element.innerHTML = '';\n",
              "        dataTable['output_type'] = 'display_data';\n",
              "        await google.colab.output.renderOutput(dataTable, element);\n",
              "        const docLink = document.createElement('div');\n",
              "        docLink.innerHTML = docLinkHtml;\n",
              "        element.appendChild(docLink);\n",
              "      }\n",
              "    </script>\n",
              "  </div>\n",
              "\n",
              "\n",
              "<div id=\"df-4b0eb973-13fb-4422-93d1-ad7241407d72\">\n",
              "  <button class=\"colab-df-quickchart\" onclick=\"quickchart('df-4b0eb973-13fb-4422-93d1-ad7241407d72')\"\n",
              "            title=\"Suggest charts\"\n",
              "            style=\"display:none;\">\n",
              "\n",
              "<svg xmlns=\"http://www.w3.org/2000/svg\" height=\"24px\"viewBox=\"0 0 24 24\"\n",
              "     width=\"24px\">\n",
              "    <g>\n",
              "        <path d=\"M19 3H5c-1.1 0-2 .9-2 2v14c0 1.1.9 2 2 2h14c1.1 0 2-.9 2-2V5c0-1.1-.9-2-2-2zM9 17H7v-7h2v7zm4 0h-2V7h2v10zm4 0h-2v-4h2v4z\"/>\n",
              "    </g>\n",
              "</svg>\n",
              "  </button>\n",
              "\n",
              "<style>\n",
              "  .colab-df-quickchart {\n",
              "      --bg-color: #E8F0FE;\n",
              "      --fill-color: #1967D2;\n",
              "      --hover-bg-color: #E2EBFA;\n",
              "      --hover-fill-color: #174EA6;\n",
              "      --disabled-fill-color: #AAA;\n",
              "      --disabled-bg-color: #DDD;\n",
              "  }\n",
              "\n",
              "  [theme=dark] .colab-df-quickchart {\n",
              "      --bg-color: #3B4455;\n",
              "      --fill-color: #D2E3FC;\n",
              "      --hover-bg-color: #434B5C;\n",
              "      --hover-fill-color: #FFFFFF;\n",
              "      --disabled-bg-color: #3B4455;\n",
              "      --disabled-fill-color: #666;\n",
              "  }\n",
              "\n",
              "  .colab-df-quickchart {\n",
              "    background-color: var(--bg-color);\n",
              "    border: none;\n",
              "    border-radius: 50%;\n",
              "    cursor: pointer;\n",
              "    display: none;\n",
              "    fill: var(--fill-color);\n",
              "    height: 32px;\n",
              "    padding: 0;\n",
              "    width: 32px;\n",
              "  }\n",
              "\n",
              "  .colab-df-quickchart:hover {\n",
              "    background-color: var(--hover-bg-color);\n",
              "    box-shadow: 0 1px 2px rgba(60, 64, 67, 0.3), 0 1px 3px 1px rgba(60, 64, 67, 0.15);\n",
              "    fill: var(--button-hover-fill-color);\n",
              "  }\n",
              "\n",
              "  .colab-df-quickchart-complete:disabled,\n",
              "  .colab-df-quickchart-complete:disabled:hover {\n",
              "    background-color: var(--disabled-bg-color);\n",
              "    fill: var(--disabled-fill-color);\n",
              "    box-shadow: none;\n",
              "  }\n",
              "\n",
              "  .colab-df-spinner {\n",
              "    border: 2px solid var(--fill-color);\n",
              "    border-color: transparent;\n",
              "    border-bottom-color: var(--fill-color);\n",
              "    animation:\n",
              "      spin 1s steps(1) infinite;\n",
              "  }\n",
              "\n",
              "  @keyframes spin {\n",
              "    0% {\n",
              "      border-color: transparent;\n",
              "      border-bottom-color: var(--fill-color);\n",
              "      border-left-color: var(--fill-color);\n",
              "    }\n",
              "    20% {\n",
              "      border-color: transparent;\n",
              "      border-left-color: var(--fill-color);\n",
              "      border-top-color: var(--fill-color);\n",
              "    }\n",
              "    30% {\n",
              "      border-color: transparent;\n",
              "      border-left-color: var(--fill-color);\n",
              "      border-top-color: var(--fill-color);\n",
              "      border-right-color: var(--fill-color);\n",
              "    }\n",
              "    40% {\n",
              "      border-color: transparent;\n",
              "      border-right-color: var(--fill-color);\n",
              "      border-top-color: var(--fill-color);\n",
              "    }\n",
              "    60% {\n",
              "      border-color: transparent;\n",
              "      border-right-color: var(--fill-color);\n",
              "    }\n",
              "    80% {\n",
              "      border-color: transparent;\n",
              "      border-right-color: var(--fill-color);\n",
              "      border-bottom-color: var(--fill-color);\n",
              "    }\n",
              "    90% {\n",
              "      border-color: transparent;\n",
              "      border-bottom-color: var(--fill-color);\n",
              "    }\n",
              "  }\n",
              "</style>\n",
              "\n",
              "  <script>\n",
              "    async function quickchart(key) {\n",
              "      const quickchartButtonEl =\n",
              "        document.querySelector('#' + key + ' button');\n",
              "      quickchartButtonEl.disabled = true;  // To prevent multiple clicks.\n",
              "      quickchartButtonEl.classList.add('colab-df-spinner');\n",
              "      try {\n",
              "        const charts = await google.colab.kernel.invokeFunction(\n",
              "            'suggestCharts', [key], {});\n",
              "      } catch (error) {\n",
              "        console.error('Error during call to suggestCharts:', error);\n",
              "      }\n",
              "      quickchartButtonEl.classList.remove('colab-df-spinner');\n",
              "      quickchartButtonEl.classList.add('colab-df-quickchart-complete');\n",
              "    }\n",
              "    (() => {\n",
              "      let quickchartButtonEl =\n",
              "        document.querySelector('#df-4b0eb973-13fb-4422-93d1-ad7241407d72 button');\n",
              "      quickchartButtonEl.style.display =\n",
              "        google.colab.kernel.accessAllowed ? 'block' : 'none';\n",
              "    })();\n",
              "  </script>\n",
              "</div>\n",
              "\n",
              "    </div>\n",
              "  </div>\n"
            ],
            "application/vnd.google.colaboratory.intrinsic+json": {
              "type": "dataframe",
              "variable_name": "data"
            }
          },
          "metadata": {},
          "execution_count": 42
        }
      ]
    },
    {
      "cell_type": "code",
      "source": [
        "# Check for missing values\n",
        "print(\"\\nMissing values in the dataset:\")\n",
        "print(data.isnull().sum())\n",
        "\n",
        "# Basic statistics of the dataset\n",
        "print(\"\\nBasic statistics of the dataset:\")\n",
        "print(data.describe())\n"
      ],
      "metadata": {
        "colab": {
          "base_uri": "https://localhost:8080/"
        },
        "id": "rfNRURuG3N3c",
        "outputId": "ca367e12-cbef-4f39-c0c9-736f3bbafea3"
      },
      "execution_count": 43,
      "outputs": [
        {
          "output_type": "stream",
          "name": "stdout",
          "text": [
            "\n",
            "Missing values in the dataset:\n",
            "id                  0\n",
            "age                 9\n",
            "bp                 12\n",
            "sg                 47\n",
            "al                 46\n",
            "su                 49\n",
            "rbc               152\n",
            "pc                 65\n",
            "pcc                 4\n",
            "ba                  4\n",
            "bgr                44\n",
            "bu                 19\n",
            "sc                 17\n",
            "sod                87\n",
            "pot                88\n",
            "hemo               52\n",
            "pcv                70\n",
            "wc                105\n",
            "rc                130\n",
            "htn                 2\n",
            "dm                  2\n",
            "cad                 2\n",
            "appet               1\n",
            "pe                  1\n",
            "ane                 1\n",
            "classification      0\n",
            "dtype: int64\n",
            "\n",
            "Basic statistics of the dataset:\n",
            "               id         age          bp          sg          al          su  \\\n",
            "count  400.000000  391.000000  388.000000  353.000000  354.000000  351.000000   \n",
            "mean   199.500000   51.483376   76.469072    1.017408    1.016949    0.450142   \n",
            "std    115.614301   17.169714   13.683637    0.005717    1.352679    1.099191   \n",
            "min      0.000000    2.000000   50.000000    1.005000    0.000000    0.000000   \n",
            "25%     99.750000   42.000000   70.000000    1.010000    0.000000    0.000000   \n",
            "50%    199.500000   55.000000   80.000000    1.020000    0.000000    0.000000   \n",
            "75%    299.250000   64.500000   80.000000    1.020000    2.000000    0.000000   \n",
            "max    399.000000   90.000000  180.000000    1.025000    5.000000    5.000000   \n",
            "\n",
            "              bgr          bu          sc         sod         pot        hemo  \n",
            "count  356.000000  381.000000  383.000000  313.000000  312.000000  348.000000  \n",
            "mean   148.036517   57.425722    3.072454  137.528754    4.627244   12.526437  \n",
            "std     79.281714   50.503006    5.741126   10.408752    3.193904    2.912587  \n",
            "min     22.000000    1.500000    0.400000    4.500000    2.500000    3.100000  \n",
            "25%     99.000000   27.000000    0.900000  135.000000    3.800000   10.300000  \n",
            "50%    121.000000   42.000000    1.300000  138.000000    4.400000   12.650000  \n",
            "75%    163.000000   66.000000    2.800000  142.000000    4.900000   15.000000  \n",
            "max    490.000000  391.000000   76.000000  163.000000   47.000000   17.800000  \n"
          ]
        }
      ]
    },
    {
      "cell_type": "code",
      "source": [
        "# Display the attributes and their data types\n",
        "print(data.info())\n"
      ],
      "metadata": {
        "colab": {
          "base_uri": "https://localhost:8080/"
        },
        "id": "wT5xlRrx3QG8",
        "outputId": "54b3bb7f-5833-4e6d-dbf3-c8d71c029645"
      },
      "execution_count": 44,
      "outputs": [
        {
          "output_type": "stream",
          "name": "stdout",
          "text": [
            "<class 'pandas.core.frame.DataFrame'>\n",
            "RangeIndex: 400 entries, 0 to 399\n",
            "Data columns (total 26 columns):\n",
            " #   Column          Non-Null Count  Dtype  \n",
            "---  ------          --------------  -----  \n",
            " 0   id              400 non-null    int64  \n",
            " 1   age             391 non-null    float64\n",
            " 2   bp              388 non-null    float64\n",
            " 3   sg              353 non-null    float64\n",
            " 4   al              354 non-null    float64\n",
            " 5   su              351 non-null    float64\n",
            " 6   rbc             248 non-null    object \n",
            " 7   pc              335 non-null    object \n",
            " 8   pcc             396 non-null    object \n",
            " 9   ba              396 non-null    object \n",
            " 10  bgr             356 non-null    float64\n",
            " 11  bu              381 non-null    float64\n",
            " 12  sc              383 non-null    float64\n",
            " 13  sod             313 non-null    float64\n",
            " 14  pot             312 non-null    float64\n",
            " 15  hemo            348 non-null    float64\n",
            " 16  pcv             330 non-null    object \n",
            " 17  wc              295 non-null    object \n",
            " 18  rc              270 non-null    object \n",
            " 19  htn             398 non-null    object \n",
            " 20  dm              398 non-null    object \n",
            " 21  cad             398 non-null    object \n",
            " 22  appet           399 non-null    object \n",
            " 23  pe              399 non-null    object \n",
            " 24  ane             399 non-null    object \n",
            " 25  classification  400 non-null    object \n",
            "dtypes: float64(11), int64(1), object(14)\n",
            "memory usage: 81.4+ KB\n",
            "None\n"
          ]
        }
      ]
    },
    {
      "cell_type": "code",
      "source": [
        "# Get the shape of the dataset (number of rows and columns)\n",
        "num_rows, num_cols = data.shape\n",
        "print(\"Number of rows:\", num_rows)\n",
        "print(\"Number of columns:\", num_cols)\n",
        "\n",
        "# Describe the dataset\n",
        "print(\"Context: The dataset contains various attributes related to patients with chronic kidney disease.\")\n",
        "print(\"It consists of both numerical and categorical features.\")\n",
        "print(\"Attributes include age, blood pressure (bp), specific gravity (sg), albumin (al), sugar (su), red blood cells (rbc), pus cell (pc), etc.\")\n",
        "print(\"The dataset has\", num_cols, \"attributes and the target variable is 'classification'.\")\n"
      ],
      "metadata": {
        "colab": {
          "base_uri": "https://localhost:8080/"
        },
        "id": "N-Ujs8Y03SDU",
        "outputId": "a15b1e82-c24a-4dc6-eb13-c4989ea848e8"
      },
      "execution_count": 45,
      "outputs": [
        {
          "output_type": "stream",
          "name": "stdout",
          "text": [
            "Number of rows: 400\n",
            "Number of columns: 26\n",
            "Context: The dataset contains various attributes related to patients with chronic kidney disease.\n",
            "It consists of both numerical and categorical features.\n",
            "Attributes include age, blood pressure (bp), specific gravity (sg), albumin (al), sugar (su), red blood cells (rbc), pus cell (pc), etc.\n",
            "The dataset has 26 attributes and the target variable is 'classification'.\n"
          ]
        }
      ]
    },
    {
      "cell_type": "code",
      "source": [
        "# Display summary statistics for numerical attributes\n",
        "print(data.describe())\n"
      ],
      "metadata": {
        "colab": {
          "base_uri": "https://localhost:8080/"
        },
        "id": "oFkP7h083UBd",
        "outputId": "24712e3f-c6dd-44cf-e29f-b3831bf91ada"
      },
      "execution_count": 46,
      "outputs": [
        {
          "output_type": "stream",
          "name": "stdout",
          "text": [
            "               id         age          bp          sg          al          su  \\\n",
            "count  400.000000  391.000000  388.000000  353.000000  354.000000  351.000000   \n",
            "mean   199.500000   51.483376   76.469072    1.017408    1.016949    0.450142   \n",
            "std    115.614301   17.169714   13.683637    0.005717    1.352679    1.099191   \n",
            "min      0.000000    2.000000   50.000000    1.005000    0.000000    0.000000   \n",
            "25%     99.750000   42.000000   70.000000    1.010000    0.000000    0.000000   \n",
            "50%    199.500000   55.000000   80.000000    1.020000    0.000000    0.000000   \n",
            "75%    299.250000   64.500000   80.000000    1.020000    2.000000    0.000000   \n",
            "max    399.000000   90.000000  180.000000    1.025000    5.000000    5.000000   \n",
            "\n",
            "              bgr          bu          sc         sod         pot        hemo  \n",
            "count  356.000000  381.000000  383.000000  313.000000  312.000000  348.000000  \n",
            "mean   148.036517   57.425722    3.072454  137.528754    4.627244   12.526437  \n",
            "std     79.281714   50.503006    5.741126   10.408752    3.193904    2.912587  \n",
            "min     22.000000    1.500000    0.400000    4.500000    2.500000    3.100000  \n",
            "25%     99.000000   27.000000    0.900000  135.000000    3.800000   10.300000  \n",
            "50%    121.000000   42.000000    1.300000  138.000000    4.400000   12.650000  \n",
            "75%    163.000000   66.000000    2.800000  142.000000    4.900000   15.000000  \n",
            "max    490.000000  391.000000   76.000000  163.000000   47.000000   17.800000  \n"
          ]
        }
      ]
    },
    {
      "cell_type": "code",
      "source": [
        "# Assuming you have loaded your dataset into a DataFrame named 'df'\n",
        "# Replace 'df' with your actual DataFrame if different\n",
        "\n",
        "# Separate the dataset into 'ckd' and 'notckd' classes\n",
        "ckd_data = data[data['classification'] == 'ckd']\n",
        "notckd_data = data[data['classification'] == 'notckd']\n",
        "\n",
        "# Plot histograms for each class\n",
        "plt.figure(figsize=(12, 6))\n",
        "\n",
        "# Histogram for 'ckd' class\n",
        "plt.subplot(1, 2, 1)\n",
        "plt.hist(ckd_data['classification'], color='skyblue', alpha=0.7)\n",
        "plt.title('Histogram of Classification for CKD')\n",
        "plt.xlabel('Classification')\n",
        "plt.ylabel('Frequency')\n",
        "\n",
        "# Histogram for 'notckd' class\n",
        "plt.subplot(1, 2, 2)\n",
        "plt.hist(notckd_data['classification'], color='salmon', alpha=0.7)\n",
        "plt.title('Histogram of Classification for Not CKD')\n",
        "plt.xlabel('Classification')\n",
        "plt.ylabel('Frequency')\n",
        "\n",
        "plt.tight_layout()\n",
        "plt.show()\n"
      ],
      "metadata": {
        "colab": {
          "base_uri": "https://localhost:8080/",
          "height": 607
        },
        "id": "AAKD1heV9FOo",
        "outputId": "07c65a7c-0d06-4002-bea0-1fbcdc100be0"
      },
      "execution_count": 47,
      "outputs": [
        {
          "output_type": "display_data",
          "data": {
            "text/plain": [
              "<Figure size 1200x600 with 2 Axes>"
            ],
            "image/png": "[encoded data removed]"
          },
          "metadata": {}
        }
      ]
    },
    {
      "cell_type": "markdown",
      "source": [
        "# **Data PreProcessing**"
      ],
      "metadata": {
        "id": "T0fewECP9sCY"
      }
    },
    {
      "cell_type": "code",
      "source": [
        "# Check for missing values\n",
        "missing_values = data.isnull().sum()\n",
        "print(\"Missing values:\\n\", missing_values)\n",
        "\n",
        "# Create an imputer object with strategy='mean' to impute missing values with mean\n",
        "imputer = SimpleImputer(strategy='mean')\n",
        "\n",
        "# Impute missing values for numerical columns\n",
        "num_columns = data.select_dtypes(include=['int64', 'float64']).columns\n",
        "data[num_columns] = imputer.fit_transform(data[num_columns])\n",
        "\n",
        "# Impute missing values for categorical columns (if any)\n",
        "cat_columns = data.select_dtypes(include=['object']).columns\n",
        "for col in cat_columns:\n",
        "    data[col].fillna(data[col].mode()[0], inplace=True)\n"
      ],
      "metadata": {
        "colab": {
          "base_uri": "https://localhost:8080/"
        },
        "id": "HdhwtE_c395U",
        "outputId": "14a3a33b-433d-4ae4-e128-5299bea53d63"
      },
      "execution_count": 48,
      "outputs": [
        {
          "output_type": "stream",
          "name": "stdout",
          "text": [
            "Missing values:\n",
            " id                  0\n",
            "age                 9\n",
            "bp                 12\n",
            "sg                 47\n",
            "al                 46\n",
            "su                 49\n",
            "rbc               152\n",
            "pc                 65\n",
            "pcc                 4\n",
            "ba                  4\n",
            "bgr                44\n",
            "bu                 19\n",
            "sc                 17\n",
            "sod                87\n",
            "pot                88\n",
            "hemo               52\n",
            "pcv                70\n",
            "wc                105\n",
            "rc                130\n",
            "htn                 2\n",
            "dm                  2\n",
            "cad                 2\n",
            "appet               1\n",
            "pe                  1\n",
            "ane                 1\n",
            "classification      0\n",
            "dtype: int64\n"
          ]
        }
      ]
    },
    {
      "cell_type": "markdown",
      "source": [],
      "metadata": {
        "id": "IcDevNMk9eQn"
      }
    },
    {
      "cell_type": "code",
      "source": [
        "# One-hot encoding for categorical variables\n",
        "data_encoded = pd.get_dummies(data, columns=cat_columns)\n"
      ],
      "metadata": {
        "id": "G3JFpoQ-4BIx"
      },
      "execution_count": 49,
      "outputs": []
    },
    {
      "cell_type": "code",
      "source": [
        "# Initialize a StandardScaler object\n",
        "scaler = StandardScaler()\n",
        "\n",
        "# Scale numerical features\n",
        "data_scaled = scaler.fit_transform(data_encoded[num_columns])\n",
        "\n",
        "# Replace original numerical columns with scaled values\n",
        "data_encoded[num_columns] = data_scaled\n"
      ],
      "metadata": {
        "id": "LYYDzE_h4Coa"
      },
      "execution_count": 50,
      "outputs": []
    },
    {
      "cell_type": "markdown",
      "source": [
        "# **Model Eveluation**"
      ],
      "metadata": {
        "id": "8OKNKWJ090cL"
      }
    },
    {
      "cell_type": "code",
      "source": [
        "# Split the dataset into features (X) and target variable (y)\n",
        "X = data_encoded.drop(columns=['classification_ckd', 'classification_ckd\\t', 'classification_notckd'], axis=1)\n",
        "y = data_encoded['classification_ckd']\n",
        "\n",
        "\n",
        "# Split the dataset into training and testing sets\n",
        "X_train, X_test, y_train, y_test = train_test_split(X, y, test_size=0.2, random_state=42)\n",
        "\n",
        "# Initialize SVM classifier\n",
        "svm_model = SVC(kernel='linear', random_state=42)  # Use linear kernel for better interpretability\n",
        "\n",
        "# Train the model\n",
        "svm_model.fit(X_train, y_train)\n",
        "\n",
        "# Predict on the testing set\n",
        "y_pred = svm_model.predict(X_test)\n",
        "\n",
        "# Calculate accuracy\n",
        "accuracy = accuracy_score(y_test, y_pred)\n",
        "print(\"Accuracy:\", accuracy)\n",
        "\n"
      ],
      "metadata": {
        "colab": {
          "base_uri": "https://localhost:8080/"
        },
        "id": "8HA7RXI04Eqe",
        "outputId": "cbf93f3d-2826-43ba-b473-f6639aae161b"
      },
      "execution_count": 51,
      "outputs": [
        {
          "output_type": "stream",
          "name": "stdout",
          "text": [
            "Accuracy: 0.975\n"
          ]
        }
      ]
    },
    {
      "cell_type": "code",
      "source": [
        "# Make predictions on the testing set\n",
        "y_pred = svm_model.predict(X_test)\n",
        "\n",
        "# Generate the classification report\n",
        "report = classification_report(y_test, y_pred)\n",
        "print(\"Classification Report:\")\n",
        "print(report)"
      ],
      "metadata": {
        "colab": {
          "base_uri": "https://localhost:8080/"
        },
        "id": "CVWerSgy4_c_",
        "outputId": "31622edb-37e1-4d0a-bf17-49d2e91a0133"
      },
      "execution_count": 52,
      "outputs": [
        {
          "output_type": "stream",
          "name": "stdout",
          "text": [
            "Classification Report:\n",
            "              precision    recall  f1-score   support\n",
            "\n",
            "       False       0.93      1.00      0.97        28\n",
            "        True       1.00      0.96      0.98        52\n",
            "\n",
            "    accuracy                           0.97        80\n",
            "   macro avg       0.97      0.98      0.97        80\n",
            "weighted avg       0.98      0.97      0.98        80\n",
            "\n"
          ]
        }
      ]
    },
    {
      "cell_type": "code",
      "source": [
        "# Calculate the accuracy and the inverse of the accuracy\n",
        "accuracy_value = accuracy_score(y_test, y_pred)\n",
        "inaccuracy_value = 1 - accuracy_value\n",
        "\n",
        "# Plot the pie chart\n",
        "labels = ['Accuracy', 'Inaccuracy']\n",
        "sizes = [accuracy_value, inaccuracy_value]\n",
        "colors = ['lightgreen', 'lightcoral']\n",
        "explode = (0.1, 0)  # explode the first slice (Accuracy)\n",
        "\n",
        "plt.pie(sizes, explode=explode, labels=labels, colors=colors, autopct='%1.1f%%', shadow=True, startangle=140)\n",
        "plt.axis('equal')  # Equal aspect ratio ensures that pie is drawn as a circle.\n",
        "\n",
        "plt.title('Accuracy Pie Chart')\n",
        "plt.show()\n"
      ],
      "metadata": {
        "colab": {
          "base_uri": "https://localhost:8080/",
          "height": 428
        },
        "id": "-Gzg4YTs8ffw",
        "outputId": "b126b426-7a42-417e-e201-b30b87c6a79b"
      },
      "execution_count": 53,
      "outputs": [
        {
          "output_type": "display_data",
          "data": {
            "text/plain": [
              "<Figure size 640x480 with 1 Axes>"
            ],
            "image/png": "[encoded data removed]"
          },
          "metadata": {}
        }
      ]
    },
    {
      "cell_type": "markdown",
      "source": [
        "# **Test Results**"
      ],
      "metadata": {
        "id": "IUC083yl97e7"
      }
    },
    {
      "cell_type": "code",
      "source": [
        "# Compare predicted labels with actual labels\n",
        "correct_predictions = (y_pred == y_test)\n",
        "\n",
        "# Print the indices of incorrect predictions\n",
        "incorrect_indices = [i for i, correct in enumerate(correct_predictions) if not correct]\n",
        "print(\"Indices of incorrect predictions:\", incorrect_indices)\n",
        "\n",
        "# Print the actual and predicted labels for incorrect predictions\n",
        "print(\"Incorrect predictions:\")\n",
        "for index in incorrect_indices:\n",
        "    print(\"Actual:\", y_test.iloc[index], \"\\tPredicted:\", y_pred[index])\n"
      ],
      "metadata": {
        "colab": {
          "base_uri": "https://localhost:8080/"
        },
        "id": "IDwXqKOU5DhM",
        "outputId": "76c6c456-49b6-4430-d543-3136189d63e8"
      },
      "execution_count": 34,
      "outputs": [
        {
          "output_type": "stream",
          "name": "stdout",
          "text": [
            "Indices of incorrect predictions: [0, 47]\n",
            "Incorrect predictions:\n",
            "Actual: True \tPredicted: False\n",
            "Actual: True \tPredicted: False\n"
          ]
        }
      ]
    },
    {
      "cell_type": "code",
      "source": [
        "# Compare predicted labels with actual labels\n",
        "correct_predictions = (y_pred == y_test)\n",
        "\n",
        "# Print the indices of correct predictions\n",
        "correct_indices = [i for i, correct in enumerate(correct_predictions) if correct]\n",
        "print(\"Indices of correct predictions:\", correct_indices)\n",
        "\n",
        "# Print the actual and predicted labels for correct predictions\n",
        "print(\"Correct predictions:\")\n",
        "for index in correct_indices:\n",
        "    print(\"Actual:\", y_test.iloc[index], \"\\tPredicted:\", y_pred[index])\n"
      ],
      "metadata": {
        "colab": {
          "base_uri": "https://localhost:8080/"
        },
        "id": "gC46E0Gm60xj",
        "outputId": "7f1deeee-f031-4387-8c29-dcf7ce00f681"
      },
      "execution_count": 35,
      "outputs": [
        {
          "output_type": "stream",
          "name": "stdout",
          "text": [
            "Indices of correct predictions: [1, 2, 3, 4, 5, 6, 7, 8, 9, 10, 11, 12, 13, 14, 15, 16, 17, 18, 19, 20, 21, 22, 23, 24, 25, 26, 27, 28, 29, 30, 31, 32, 33, 34, 35, 36, 37, 38, 39, 40, 41, 42, 43, 44, 45, 46, 48, 49, 50, 51, 52, 53, 54, 55, 56, 57, 58, 59, 60, 61, 62, 63, 64, 65, 66, 67, 68, 69, 70, 71, 72, 73, 74, 75, 76, 77, 78, 79]\n",
            "Correct predictions:\n",
            "Actual: False \tPredicted: False\n",
            "Actual: True \tPredicted: True\n",
            "Actual: True \tPredicted: True\n",
            "Actual: True \tPredicted: True\n",
            "Actual: True \tPredicted: True\n",
            "Actual: False \tPredicted: False\n",
            "Actual: True \tPredicted: True\n",
            "Actual: False \tPredicted: False\n",
            "Actual: True \tPredicted: True\n",
            "Actual: True \tPredicted: True\n",
            "Actual: False \tPredicted: False\n",
            "Actual: True \tPredicted: True\n",
            "Actual: True \tPredicted: True\n",
            "Actual: True \tPredicted: True\n",
            "Actual: True \tPredicted: True\n",
            "Actual: False \tPredicted: False\n",
            "Actual: False \tPredicted: False\n",
            "Actual: True \tPredicted: True\n",
            "Actual: False \tPredicted: False\n",
            "Actual: True \tPredicted: True\n",
            "Actual: True \tPredicted: True\n",
            "Actual: False \tPredicted: False\n",
            "Actual: False \tPredicted: False\n",
            "Actual: True \tPredicted: True\n",
            "Actual: False \tPredicted: False\n",
            "Actual: True \tPredicted: True\n",
            "Actual: True \tPredicted: True\n",
            "Actual: False \tPredicted: False\n",
            "Actual: True \tPredicted: True\n",
            "Actual: False \tPredicted: False\n",
            "Actual: True \tPredicted: True\n",
            "Actual: False \tPredicted: False\n",
            "Actual: True \tPredicted: True\n",
            "Actual: True \tPredicted: True\n",
            "Actual: True \tPredicted: True\n",
            "Actual: True \tPredicted: True\n",
            "Actual: False \tPredicted: False\n",
            "Actual: True \tPredicted: True\n",
            "Actual: True \tPredicted: True\n",
            "Actual: False \tPredicted: False\n",
            "Actual: True \tPredicted: True\n",
            "Actual: True \tPredicted: True\n",
            "Actual: True \tPredicted: True\n",
            "Actual: True \tPredicted: True\n",
            "Actual: False \tPredicted: False\n",
            "Actual: True \tPredicted: True\n",
            "Actual: True \tPredicted: True\n",
            "Actual: True \tPredicted: True\n",
            "Actual: True \tPredicted: True\n",
            "Actual: False \tPredicted: False\n",
            "Actual: False \tPredicted: False\n",
            "Actual: True \tPredicted: True\n",
            "Actual: False \tPredicted: False\n",
            "Actual: True \tPredicted: True\n",
            "Actual: True \tPredicted: True\n",
            "Actual: True \tPredicted: True\n",
            "Actual: True \tPredicted: True\n",
            "Actual: True \tPredicted: True\n",
            "Actual: True \tPredicted: True\n",
            "Actual: False \tPredicted: False\n",
            "Actual: False \tPredicted: False\n",
            "Actual: True \tPredicted: True\n",
            "Actual: True \tPredicted: True\n",
            "Actual: True \tPredicted: True\n",
            "Actual: False \tPredicted: False\n",
            "Actual: False \tPredicted: False\n",
            "Actual: False \tPredicted: False\n",
            "Actual: True \tPredicted: True\n",
            "Actual: False \tPredicted: False\n",
            "Actual: True \tPredicted: True\n",
            "Actual: True \tPredicted: True\n",
            "Actual: True \tPredicted: True\n",
            "Actual: False \tPredicted: False\n",
            "Actual: True \tPredicted: True\n",
            "Actual: True \tPredicted: True\n",
            "Actual: False \tPredicted: False\n",
            "Actual: True \tPredicted: True\n",
            "Actual: False \tPredicted: False\n"
          ]
        }
      ]
    }
  ]
}