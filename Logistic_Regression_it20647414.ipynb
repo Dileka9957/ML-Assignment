{
  "nbformat": 4,
  "nbformat_minor": 0,
  "metadata": {
    "colab": {
      "provenance": []
    },
    "kernelspec": {
      "name": "python3",
      "display_name": "Python 3"
    },
    "language_info": {
      "name": "python"
    }
  },
  "cells": [
    {
      "cell_type": "markdown",
      "source": [
        "\n",
        "\n",
        "> **Step 1: Loading the Dataset**\n",
        "\n"
      ],
      "metadata": {
        "id": "EWlgR40AnqWk"
      }
    },
    {
      "cell_type": "code",
      "source": [
        "import pandas as pd\n",
        "import matplotlib.pyplot as plt\n",
        "\n",
        "from sklearn.linear_model import LogisticRegression\n",
        "from sklearn.model_selection import train_test_split\n",
        "from sklearn.preprocessing import OneHotEncoder, StandardScaler\n",
        "from sklearn.compose import ColumnTransformer\n",
        "from sklearn.pipeline import Pipeline\n",
        "from sklearn.metrics import classification_report\n",
        "from imblearn.over_sampling import RandomOverSampler\n",
        "from sklearn.metrics import accuracy_score\n",
        "from sklearn.preprocessing import OneHotEncoder\n",
        "from sklearn.preprocessing import StandardScaler, OneHotEncoder\n",
        "\n",
        "\n",
        "\n",
        "\n"
      ],
      "metadata": {
        "id": "uquRQFFRnwv4"
      },
      "execution_count": 54,
      "outputs": []
    },
    {
      "cell_type": "markdown",
      "source": [
        "**Step 2: Loading the Dataset**"
      ],
      "metadata": {
        "id": "vzeGCfQzwRPs"
      }
    },
    {
      "cell_type": "code",
      "execution_count": 52,
      "metadata": {
        "colab": {
          "base_uri": "https://localhost:8080/",
          "height": 235
        },
        "id": "U-aKjcw_v-zI",
        "outputId": "a60b98cd-4793-412d-d20c-60fb4fb25a20"
      },
      "outputs": [
        {
          "output_type": "execute_result",
          "data": {
            "text/plain": [
              "   id   age    bp     sg   al   su     rbc        pc         pcc          ba  \\\n",
              "0   0  48.0  80.0  1.020  1.0  0.0     NaN    normal  notpresent  notpresent   \n",
              "1   1   7.0  50.0  1.020  4.0  0.0     NaN    normal  notpresent  notpresent   \n",
              "2   2  62.0  80.0  1.010  2.0  3.0  normal    normal  notpresent  notpresent   \n",
              "3   3  48.0  70.0  1.005  4.0  0.0  normal  abnormal     present  notpresent   \n",
              "4   4  51.0  80.0  1.010  2.0  0.0  normal    normal  notpresent  notpresent   \n",
              "\n",
              "   ...  pcv    wc   rc  htn   dm  cad appet   pe  ane classification  \n",
              "0  ...   44  7800  5.2  yes  yes   no  good   no   no            ckd  \n",
              "1  ...   38  6000  NaN   no   no   no  good   no   no            ckd  \n",
              "2  ...   31  7500  NaN   no  yes   no  poor   no  yes            ckd  \n",
              "3  ...   32  6700  3.9  yes   no   no  poor  yes  yes            ckd  \n",
              "4  ...   35  7300  4.6   no   no   no  good   no   no            ckd  \n",
              "\n",
              "[5 rows x 26 columns]"
            ],
            "text/html": [
              "\n",
              "  <div id=\"df-568dd7e3-1f80-4d64-ab1a-4e48bcc1c84c\" class=\"colab-df-container\">\n",
              "    <div>\n",
              "<style scoped>\n",
              "    .dataframe tbody tr th:only-of-type {\n",
              "        vertical-align: middle;\n",
              "    }\n",
              "\n",
              "    .dataframe tbody tr th {\n",
              "        vertical-align: top;\n",
              "    }\n",
              "\n",
              "    .dataframe thead th {\n",
              "        text-align: right;\n",
              "    }\n",
              "</style>\n",
              "<table border=\"1\" class=\"dataframe\">\n",
              "  <thead>\n",
              "    <tr style=\"text-align: right;\">\n",
              "      <th></th>\n",
              "      <th>id</th>\n",
              "      <th>age</th>\n",
              "      <th>bp</th>\n",
              "      <th>sg</th>\n",
              "      <th>al</th>\n",
              "      <th>su</th>\n",
              "      <th>rbc</th>\n",
              "      <th>pc</th>\n",
              "      <th>pcc</th>\n",
              "      <th>ba</th>\n",
              "      <th>...</th>\n",
              "      <th>pcv</th>\n",
              "      <th>wc</th>\n",
              "      <th>rc</th>\n",
              "      <th>htn</th>\n",
              "      <th>dm</th>\n",
              "      <th>cad</th>\n",
              "      <th>appet</th>\n",
              "      <th>pe</th>\n",
              "      <th>ane</th>\n",
              "      <th>classification</th>\n",
              "    </tr>\n",
              "  </thead>\n",
              "  <tbody>\n",
              "    <tr>\n",
              "      <th>0</th>\n",
              "      <td>0</td>\n",
              "      <td>48.0</td>\n",
              "      <td>80.0</td>\n",
              "      <td>1.020</td>\n",
              "      <td>1.0</td>\n",
              "      <td>0.0</td>\n",
              "      <td>NaN</td>\n",
              "      <td>normal</td>\n",
              "      <td>notpresent</td>\n",
              "      <td>notpresent</td>\n",
              "      <td>...</td>\n",
              "      <td>44</td>\n",
              "      <td>7800</td>\n",
              "      <td>5.2</td>\n",
              "      <td>yes</td>\n",
              "      <td>yes</td>\n",
              "      <td>no</td>\n",
              "      <td>good</td>\n",
              "      <td>no</td>\n",
              "      <td>no</td>\n",
              "      <td>ckd</td>\n",
              "    </tr>\n",
              "    <tr>\n",
              "      <th>1</th>\n",
              "      <td>1</td>\n",
              "      <td>7.0</td>\n",
              "      <td>50.0</td>\n",
              "      <td>1.020</td>\n",
              "      <td>4.0</td>\n",
              "      <td>0.0</td>\n",
              "      <td>NaN</td>\n",
              "      <td>normal</td>\n",
              "      <td>notpresent</td>\n",
              "      <td>notpresent</td>\n",
              "      <td>...</td>\n",
              "      <td>38</td>\n",
              "      <td>6000</td>\n",
              "      <td>NaN</td>\n",
              "      <td>no</td>\n",
              "      <td>no</td>\n",
              "      <td>no</td>\n",
              "      <td>good</td>\n",
              "      <td>no</td>\n",
              "      <td>no</td>\n",
              "      <td>ckd</td>\n",
              "    </tr>\n",
              "    <tr>\n",
              "      <th>2</th>\n",
              "      <td>2</td>\n",
              "      <td>62.0</td>\n",
              "      <td>80.0</td>\n",
              "      <td>1.010</td>\n",
              "      <td>2.0</td>\n",
              "      <td>3.0</td>\n",
              "      <td>normal</td>\n",
              "      <td>normal</td>\n",
              "      <td>notpresent</td>\n",
              "      <td>notpresent</td>\n",
              "      <td>...</td>\n",
              "      <td>31</td>\n",
              "      <td>7500</td>\n",
              "      <td>NaN</td>\n",
              "      <td>no</td>\n",
              "      <td>yes</td>\n",
              "      <td>no</td>\n",
              "      <td>poor</td>\n",
              "      <td>no</td>\n",
              "      <td>yes</td>\n",
              "      <td>ckd</td>\n",
              "    </tr>\n",
              "    <tr>\n",
              "      <th>3</th>\n",
              "      <td>3</td>\n",
              "      <td>48.0</td>\n",
              "      <td>70.0</td>\n",
              "      <td>1.005</td>\n",
              "      <td>4.0</td>\n",
              "      <td>0.0</td>\n",
              "      <td>normal</td>\n",
              "      <td>abnormal</td>\n",
              "      <td>present</td>\n",
              "      <td>notpresent</td>\n",
              "      <td>...</td>\n",
              "      <td>32</td>\n",
              "      <td>6700</td>\n",
              "      <td>3.9</td>\n",
              "      <td>yes</td>\n",
              "      <td>no</td>\n",
              "      <td>no</td>\n",
              "      <td>poor</td>\n",
              "      <td>yes</td>\n",
              "      <td>yes</td>\n",
              "      <td>ckd</td>\n",
              "    </tr>\n",
              "    <tr>\n",
              "      <th>4</th>\n",
              "      <td>4</td>\n",
              "      <td>51.0</td>\n",
              "      <td>80.0</td>\n",
              "      <td>1.010</td>\n",
              "      <td>2.0</td>\n",
              "      <td>0.0</td>\n",
              "      <td>normal</td>\n",
              "      <td>normal</td>\n",
              "      <td>notpresent</td>\n",
              "      <td>notpresent</td>\n",
              "      <td>...</td>\n",
              "      <td>35</td>\n",
              "      <td>7300</td>\n",
              "      <td>4.6</td>\n",
              "      <td>no</td>\n",
              "      <td>no</td>\n",
              "      <td>no</td>\n",
              "      <td>good</td>\n",
              "      <td>no</td>\n",
              "      <td>no</td>\n",
              "      <td>ckd</td>\n",
              "    </tr>\n",
              "  </tbody>\n",
              "</table>\n",
              "<p>5 rows × 26 columns</p>\n",
              "</div>\n",
              "    <div class=\"colab-df-buttons\">\n",
              "\n",
              "  <div class=\"colab-df-container\">\n",
              "    <button class=\"colab-df-convert\" onclick=\"convertToInteractive('df-568dd7e3-1f80-4d64-ab1a-4e48bcc1c84c')\"\n",
              "            title=\"Convert this dataframe to an interactive table.\"\n",
              "            style=\"display:none;\">\n",
              "\n",
              "  <svg xmlns=\"http://www.w3.org/2000/svg\" height=\"24px\" viewBox=\"0 -960 960 960\">\n",
              "    <path d=\"M120-120v-720h720v720H120Zm60-500h600v-160H180v160Zm220 220h160v-160H400v160Zm0 220h160v-160H400v160ZM180-400h160v-160H180v160Zm440 0h160v-160H620v160ZM180-180h160v-160H180v160Zm440 0h160v-160H620v160Z\"/>\n",
              "  </svg>\n",
              "    </button>\n",
              "\n",
              "  <style>\n",
              "    .colab-df-container {\n",
              "      display:flex;\n",
              "      gap: 12px;\n",
              "    }\n",
              "\n",
              "    .colab-df-convert {\n",
              "      background-color: #E8F0FE;\n",
              "      border: none;\n",
              "      border-radius: 50%;\n",
              "      cursor: pointer;\n",
              "      display: none;\n",
              "      fill: #1967D2;\n",
              "      height: 32px;\n",
              "      padding: 0 0 0 0;\n",
              "      width: 32px;\n",
              "    }\n",
              "\n",
              "    .colab-df-convert:hover {\n",
              "      background-color: #E2EBFA;\n",
              "      box-shadow: 0px 1px 2px rgba(60, 64, 67, 0.3), 0px 1px 3px 1px rgba(60, 64, 67, 0.15);\n",
              "      fill: #174EA6;\n",
              "    }\n",
              "\n",
              "    .colab-df-buttons div {\n",
              "      margin-bottom: 4px;\n",
              "    }\n",
              "\n",
              "    [theme=dark] .colab-df-convert {\n",
              "      background-color: #3B4455;\n",
              "      fill: #D2E3FC;\n",
              "    }\n",
              "\n",
              "    [theme=dark] .colab-df-convert:hover {\n",
              "      background-color: #434B5C;\n",
              "      box-shadow: 0px 1px 3px 1px rgba(0, 0, 0, 0.15);\n",
              "      filter: drop-shadow(0px 1px 2px rgba(0, 0, 0, 0.3));\n",
              "      fill: #FFFFFF;\n",
              "    }\n",
              "  </style>\n",
              "\n",
              "    <script>\n",
              "      const buttonEl =\n",
              "        document.querySelector('#df-568dd7e3-1f80-4d64-ab1a-4e48bcc1c84c button.colab-df-convert');\n",
              "      buttonEl.style.display =\n",
              "        google.colab.kernel.accessAllowed ? 'block' : 'none';\n",
              "\n",
              "      async function convertToInteractive(key) {\n",
              "        const element = document.querySelector('#df-568dd7e3-1f80-4d64-ab1a-4e48bcc1c84c');\n",
              "        const dataTable =\n",
              "          await google.colab.kernel.invokeFunction('convertToInteractive',\n",
              "                                                    [key], {});\n",
              "        if (!dataTable) return;\n",
              "\n",
              "        const docLinkHtml = 'Like what you see? Visit the ' +\n",
              "          '<a target=\"_blank\" href=https://colab.research.google.com/notebooks/data_table.ipynb>data table notebook</a>'\n",
              "          + ' to learn more about interactive tables.';\n",
              "        element.innerHTML = '';\n",
              "        dataTable['output_type'] = 'display_data';\n",
              "        await google.colab.output.renderOutput(dataTable, element);\n",
              "        const docLink = document.createElement('div');\n",
              "        docLink.innerHTML = docLinkHtml;\n",
              "        element.appendChild(docLink);\n",
              "      }\n",
              "    </script>\n",
              "  </div>\n",
              "\n",
              "\n",
              "<div id=\"df-bee1de44-b134-422a-b691-bfb90d0eb0d9\">\n",
              "  <button class=\"colab-df-quickchart\" onclick=\"quickchart('df-bee1de44-b134-422a-b691-bfb90d0eb0d9')\"\n",
              "            title=\"Suggest charts\"\n",
              "            style=\"display:none;\">\n",
              "\n",
              "<svg xmlns=\"http://www.w3.org/2000/svg\" height=\"24px\"viewBox=\"0 0 24 24\"\n",
              "     width=\"24px\">\n",
              "    <g>\n",
              "        <path d=\"M19 3H5c-1.1 0-2 .9-2 2v14c0 1.1.9 2 2 2h14c1.1 0 2-.9 2-2V5c0-1.1-.9-2-2-2zM9 17H7v-7h2v7zm4 0h-2V7h2v10zm4 0h-2v-4h2v4z\"/>\n",
              "    </g>\n",
              "</svg>\n",
              "  </button>\n",
              "\n",
              "<style>\n",
              "  .colab-df-quickchart {\n",
              "      --bg-color: #E8F0FE;\n",
              "      --fill-color: #1967D2;\n",
              "      --hover-bg-color: #E2EBFA;\n",
              "      --hover-fill-color: #174EA6;\n",
              "      --disabled-fill-color: #AAA;\n",
              "      --disabled-bg-color: #DDD;\n",
              "  }\n",
              "\n",
              "  [theme=dark] .colab-df-quickchart {\n",
              "      --bg-color: #3B4455;\n",
              "      --fill-color: #D2E3FC;\n",
              "      --hover-bg-color: #434B5C;\n",
              "      --hover-fill-color: #FFFFFF;\n",
              "      --disabled-bg-color: #3B4455;\n",
              "      --disabled-fill-color: #666;\n",
              "  }\n",
              "\n",
              "  .colab-df-quickchart {\n",
              "    background-color: var(--bg-color);\n",
              "    border: none;\n",
              "    border-radius: 50%;\n",
              "    cursor: pointer;\n",
              "    display: none;\n",
              "    fill: var(--fill-color);\n",
              "    height: 32px;\n",
              "    padding: 0;\n",
              "    width: 32px;\n",
              "  }\n",
              "\n",
              "  .colab-df-quickchart:hover {\n",
              "    background-color: var(--hover-bg-color);\n",
              "    box-shadow: 0 1px 2px rgba(60, 64, 67, 0.3), 0 1px 3px 1px rgba(60, 64, 67, 0.15);\n",
              "    fill: var(--button-hover-fill-color);\n",
              "  }\n",
              "\n",
              "  .colab-df-quickchart-complete:disabled,\n",
              "  .colab-df-quickchart-complete:disabled:hover {\n",
              "    background-color: var(--disabled-bg-color);\n",
              "    fill: var(--disabled-fill-color);\n",
              "    box-shadow: none;\n",
              "  }\n",
              "\n",
              "  .colab-df-spinner {\n",
              "    border: 2px solid var(--fill-color);\n",
              "    border-color: transparent;\n",
              "    border-bottom-color: var(--fill-color);\n",
              "    animation:\n",
              "      spin 1s steps(1) infinite;\n",
              "  }\n",
              "\n",
              "  @keyframes spin {\n",
              "    0% {\n",
              "      border-color: transparent;\n",
              "      border-bottom-color: var(--fill-color);\n",
              "      border-left-color: var(--fill-color);\n",
              "    }\n",
              "    20% {\n",
              "      border-color: transparent;\n",
              "      border-left-color: var(--fill-color);\n",
              "      border-top-color: var(--fill-color);\n",
              "    }\n",
              "    30% {\n",
              "      border-color: transparent;\n",
              "      border-left-color: var(--fill-color);\n",
              "      border-top-color: var(--fill-color);\n",
              "      border-right-color: var(--fill-color);\n",
              "    }\n",
              "    40% {\n",
              "      border-color: transparent;\n",
              "      border-right-color: var(--fill-color);\n",
              "      border-top-color: var(--fill-color);\n",
              "    }\n",
              "    60% {\n",
              "      border-color: transparent;\n",
              "      border-right-color: var(--fill-color);\n",
              "    }\n",
              "    80% {\n",
              "      border-color: transparent;\n",
              "      border-right-color: var(--fill-color);\n",
              "      border-bottom-color: var(--fill-color);\n",
              "    }\n",
              "    90% {\n",
              "      border-color: transparent;\n",
              "      border-bottom-color: var(--fill-color);\n",
              "    }\n",
              "  }\n",
              "</style>\n",
              "\n",
              "  <script>\n",
              "    async function quickchart(key) {\n",
              "      const quickchartButtonEl =\n",
              "        document.querySelector('#' + key + ' button');\n",
              "      quickchartButtonEl.disabled = true;  // To prevent multiple clicks.\n",
              "      quickchartButtonEl.classList.add('colab-df-spinner');\n",
              "      try {\n",
              "        const charts = await google.colab.kernel.invokeFunction(\n",
              "            'suggestCharts', [key], {});\n",
              "      } catch (error) {\n",
              "        console.error('Error during call to suggestCharts:', error);\n",
              "      }\n",
              "      quickchartButtonEl.classList.remove('colab-df-spinner');\n",
              "      quickchartButtonEl.classList.add('colab-df-quickchart-complete');\n",
              "    }\n",
              "    (() => {\n",
              "      let quickchartButtonEl =\n",
              "        document.querySelector('#df-bee1de44-b134-422a-b691-bfb90d0eb0d9 button');\n",
              "      quickchartButtonEl.style.display =\n",
              "        google.colab.kernel.accessAllowed ? 'block' : 'none';\n",
              "    })();\n",
              "  </script>\n",
              "</div>\n",
              "\n",
              "    </div>\n",
              "  </div>\n"
            ],
            "application/vnd.google.colaboratory.intrinsic+json": {
              "type": "dataframe",
              "variable_name": "df"
            }
          },
          "metadata": {},
          "execution_count": 52
        }
      ],
      "source": [
        "import pandas as pd\n",
        "\n",
        "# Load the dataset into a pandas DataFrame\n",
        "df = pd.read_csv(\"kidney_disease.csv\")\n",
        "\n",
        "# Display the first few rows of the dataset\n",
        "df.head()\n"
      ]
    },
    {
      "cell_type": "markdown",
      "source": [],
      "metadata": {
        "id": "DUu4TvcrwaGU"
      }
    },
    {
      "cell_type": "markdown",
      "source": [
        "**Step 2: Description of the Dataset**"
      ],
      "metadata": {
        "id": "cJfW-tb1wQYI"
      }
    },
    {
      "cell_type": "code",
      "source": [
        "# Display the shape of the dataset (number of rows and columns)\n",
        "print(\"Shape of the dataset:\", df.shape)\n",
        "\n",
        "# Display the column names and data types\n",
        "print(\"Column names and data types:\")\n",
        "print(df.dtypes)\n",
        "\n",
        "# Display basic statistics of numerical columns\n",
        "print(\"Basic statistics of numerical columns:\")\n",
        "print(df.describe())\n",
        "\n",
        "# Display any missing values in the dataset\n",
        "print(\"Missing values in the dataset:\")\n",
        "print(df.isnull().sum())\n"
      ],
      "metadata": {
        "colab": {
          "base_uri": "https://localhost:8080/"
        },
        "id": "qhBUgIGAwdK9",
        "outputId": "5492ec70-5f0e-41d1-bdb3-4d3cc989adf0"
      },
      "execution_count": 2,
      "outputs": [
        {
          "output_type": "stream",
          "name": "stdout",
          "text": [
            "Shape of the dataset: (400, 26)\n",
            "Column names and data types:\n",
            "id                  int64\n",
            "age               float64\n",
            "bp                float64\n",
            "sg                float64\n",
            "al                float64\n",
            "su                float64\n",
            "rbc                object\n",
            "pc                 object\n",
            "pcc                object\n",
            "ba                 object\n",
            "bgr               float64\n",
            "bu                float64\n",
            "sc                float64\n",
            "sod               float64\n",
            "pot               float64\n",
            "hemo              float64\n",
            "pcv                object\n",
            "wc                 object\n",
            "rc                 object\n",
            "htn                object\n",
            "dm                 object\n",
            "cad                object\n",
            "appet              object\n",
            "pe                 object\n",
            "ane                object\n",
            "classification     object\n",
            "dtype: object\n",
            "Basic statistics of numerical columns:\n",
            "               id         age          bp          sg          al          su  \\\n",
            "count  400.000000  391.000000  388.000000  353.000000  354.000000  351.000000   \n",
            "mean   199.500000   51.483376   76.469072    1.017408    1.016949    0.450142   \n",
            "std    115.614301   17.169714   13.683637    0.005717    1.352679    1.099191   \n",
            "min      0.000000    2.000000   50.000000    1.005000    0.000000    0.000000   \n",
            "25%     99.750000   42.000000   70.000000    1.010000    0.000000    0.000000   \n",
            "50%    199.500000   55.000000   80.000000    1.020000    0.000000    0.000000   \n",
            "75%    299.250000   64.500000   80.000000    1.020000    2.000000    0.000000   \n",
            "max    399.000000   90.000000  180.000000    1.025000    5.000000    5.000000   \n",
            "\n",
            "              bgr          bu          sc         sod         pot        hemo  \n",
            "count  356.000000  381.000000  383.000000  313.000000  312.000000  348.000000  \n",
            "mean   148.036517   57.425722    3.072454  137.528754    4.627244   12.526437  \n",
            "std     79.281714   50.503006    5.741126   10.408752    3.193904    2.912587  \n",
            "min     22.000000    1.500000    0.400000    4.500000    2.500000    3.100000  \n",
            "25%     99.000000   27.000000    0.900000  135.000000    3.800000   10.300000  \n",
            "50%    121.000000   42.000000    1.300000  138.000000    4.400000   12.650000  \n",
            "75%    163.000000   66.000000    2.800000  142.000000    4.900000   15.000000  \n",
            "max    490.000000  391.000000   76.000000  163.000000   47.000000   17.800000  \n",
            "Missing values in the dataset:\n",
            "id                  0\n",
            "age                 9\n",
            "bp                 12\n",
            "sg                 47\n",
            "al                 46\n",
            "su                 49\n",
            "rbc               152\n",
            "pc                 65\n",
            "pcc                 4\n",
            "ba                  4\n",
            "bgr                44\n",
            "bu                 19\n",
            "sc                 17\n",
            "sod                87\n",
            "pot                88\n",
            "hemo               52\n",
            "pcv                70\n",
            "wc                105\n",
            "rc                130\n",
            "htn                 2\n",
            "dm                  2\n",
            "cad                 2\n",
            "appet               1\n",
            "pe                  1\n",
            "ane                 1\n",
            "classification      0\n",
            "dtype: int64\n"
          ]
        }
      ]
    },
    {
      "cell_type": "code",
      "source": [
        "# Assuming you have loaded your dataset into a DataFrame named 'df'\n",
        "# Replace 'df' with your actual DataFrame if different\n",
        "\n",
        "# Separate the dataset into 'ckd' and 'notckd' classes\n",
        "ckd_data = df[df['classification'] == 'ckd']\n",
        "notckd_data = df[df['classification'] == 'notckd']\n",
        "\n",
        "# Plot histograms for each class\n",
        "plt.figure(figsize=(12, 6))\n",
        "\n",
        "# Histogram for 'ckd' class\n",
        "plt.subplot(1, 2, 1)\n",
        "plt.hist(ckd_data['classification'], color='skyblue', alpha=0.7)\n",
        "plt.title('Histogram of Classification for CKD')\n",
        "plt.xlabel('Classification')\n",
        "plt.ylabel('Frequency')\n",
        "\n",
        "# Histogram for 'notckd' class\n",
        "plt.subplot(1, 2, 2)\n",
        "plt.hist(notckd_data['classification'], color='salmon', alpha=0.7)\n",
        "plt.title('Histogram of Classification for Not CKD')\n",
        "plt.xlabel('Classification')\n",
        "plt.ylabel('Frequency')\n",
        "\n",
        "plt.tight_layout()\n",
        "plt.show()\n"
      ],
      "metadata": {
        "colab": {
          "base_uri": "https://localhost:8080/",
          "height": 607
        },
        "id": "7pxD7vLIy3BU",
        "outputId": "f84a86c7-8e63-44b1-ef5c-e7d2b0df42c2"
      },
      "execution_count": 4,
      "outputs": [
        {
          "output_type": "display_data",
          "data": {
            "text/plain": [
              "<Figure size 1200x600 with 2 Axes>"
            ],
            "image/png": "[encoded data removed]"
          },
          "metadata": {}
        }
      ]
    },
    {
      "cell_type": "markdown",
      "source": [
        "##  Data Preprocessing"
      ],
      "metadata": {
        "id": "1qYnUZuJzeSC"
      }
    },
    {
      "cell_type": "code",
      "source": [
        "# Separate features and target variable\n",
        "X = df.drop('classification', axis=1)  # Features\n",
        "y = df['classification']  # Target variable\n"
      ],
      "metadata": {
        "id": "aY45XDhR0Ks7"
      },
      "execution_count": 6,
      "outputs": []
    },
    {
      "cell_type": "markdown",
      "source": [
        "# Model Eveluation"
      ],
      "metadata": {
        "id": "32-4FTelpEsn"
      }
    },
    {
      "cell_type": "code",
      "source": [
        "from sklearn.linear_model import LogisticRegression\n",
        "from sklearn.model_selection import train_test_split\n",
        "\n",
        "# Split the preprocessed data into training and testing sets\n",
        "X_train, X_test, y_train, y_test = train_test_split(X_processed, y, test_size=0.2, random_state=42)\n",
        "\n",
        "# Initialize the logistic regression model\n",
        "log_reg_model = LogisticRegression()\n",
        "\n",
        "# Train the logistic regression model\n",
        "log_reg_model.fit(X_train, y_train)\n",
        "\n",
        "# Evaluate the model on the testing set\n",
        "accuracy = log_reg_model.score(X_test, y_test)\n",
        "print(\"Accuracy:\", accuracy)\n"
      ],
      "metadata": {
        "colab": {
          "base_uri": "https://localhost:8080/"
        },
        "id": "TvSeS0qj36IR",
        "outputId": "6ac58ea0-7c48-4217-b7ca-e2bb8cdd598e"
      },
      "execution_count": 10,
      "outputs": [
        {
          "output_type": "stream",
          "name": "stdout",
          "text": [
            "Accuracy: 1.0\n"
          ]
        }
      ]
    },
    {
      "cell_type": "code",
      "source": [
        "from sklearn.metrics import classification_report\n",
        "\n",
        "# After training the model and making predictions\n",
        "\n",
        "# Generate classification report\n",
        "classification_rep = classification_report(y_test, y_pred)\n",
        "\n",
        "# Print the classification report\n",
        "print(\"Classification Report:\")\n",
        "print(classification_rep)"
      ],
      "metadata": {
        "id": "1KZzOfYmpRyH"
      },
      "execution_count": null,
      "outputs": []
    },
    {
      "cell_type": "markdown",
      "source": [
        "Assuming the data set was snall."
      ],
      "metadata": {
        "id": "HegPEZJV5UTk"
      }
    },
    {
      "cell_type": "code",
      "source": [
        "# Step 1: Assessing Dataset Size\n",
        "num_records = len(df)\n",
        "print(\"Number of records in the dataset:\", num_records)"
      ],
      "metadata": {
        "colab": {
          "base_uri": "https://localhost:8080/"
        },
        "id": "rXtjhbhp5SRR",
        "outputId": "e8d469d1-637e-4b48-f5c7-96694a937992"
      },
      "execution_count": 11,
      "outputs": [
        {
          "output_type": "stream",
          "name": "stdout",
          "text": [
            "Number of records in the dataset: 400\n"
          ]
        }
      ]
    },
    {
      "cell_type": "code",
      "source": [
        "# # Step 3: Performing Rigorous Cross-Validation\n",
        "# # Split the data into features and target variable\n",
        "# X = df.drop('classification', axis=1)\n",
        "# y = df['classification']"
      ],
      "metadata": {
        "id": "Y3bjvrN15yul"
      },
      "execution_count": 12,
      "outputs": []
    },
    {
      "cell_type": "code",
      "source": [
        "from sklearn.impute import SimpleImputer\n",
        "from sklearn.preprocessing import OneHotEncoder, StandardScaler\n",
        "from sklearn.compose import ColumnTransformer\n",
        "from sklearn.pipeline import Pipeline\n",
        "\n",
        "# Separate features and target variable\n",
        "X = df.drop('classification', axis=1)  # Features\n",
        "y = df['classification']  # Target variable\n",
        "\n",
        "# Define preprocessing steps for numerical and categorical features\n",
        "numeric_features = X.select_dtypes(include=['int64', 'float64']).columns\n",
        "categorical_features = X.select_dtypes(include=['object']).columns\n",
        "\n",
        "numeric_transformer = Pipeline(steps=[\n",
        "    ('imputer', SimpleImputer(strategy='mean')),  # Impute missing values with mean\n",
        "    ('scaler', StandardScaler())  # Scale numerical features\n",
        "])\n",
        "\n",
        "categorical_transformer = Pipeline(steps=[\n",
        "    ('imputer', SimpleImputer(strategy='most_frequent')),  # Impute missing values with most frequent value\n",
        "    ('onehot', OneHotEncoder(handle_unknown='ignore'))  # One-hot encode categorical features\n",
        "])\n",
        "\n",
        "# Apply preprocessing to numerical and categorical features\n",
        "preprocessor = ColumnTransformer(\n",
        "    transformers=[\n",
        "        ('num', numeric_transformer, numeric_features),\n",
        "        ('cat', categorical_transformer, categorical_features)\n",
        "    ])\n",
        "\n",
        "# Transform features using the preprocessor\n",
        "X_preprocessed = preprocessor.fit_transform(X)\n",
        "\n",
        "# Display the processed feature matrix\n",
        "print(\"Processed Feature Matrix:\")\n",
        "print(X_preprocessed)\n"
      ],
      "metadata": {
        "colab": {
          "base_uri": "https://localhost:8080/"
        },
        "id": "b3RA8F5Q7Chl",
        "outputId": "21eed965-e15b-4c4b-ed21-392c2e4d679f"
      },
      "execution_count": 19,
      "outputs": [
        {
          "output_type": "stream",
          "name": "stdout",
          "text": [
            "Processed Feature Matrix:\n",
            "  (0, 0)\t-1.7277260797023903\n",
            "  (0, 1)\t-0.20546364055756902\n",
            "  (0, 2)\t0.26233835705734787\n",
            "  (0, 3)\t0.48335471355144\n",
            "  (0, 4)\t-0.013338159656279566\n",
            "  (0, 5)\t-0.43779689860601223\n",
            "  (0, 6)\t-0.36198746124189723\n",
            "  (0, 7)\t-0.4352676906916978\n",
            "  (0, 8)\t-0.3337432259755716\n",
            "  (0, 11)\t1.0592712030899971\n",
            "  (0, 13)\t1.0\n",
            "  (0, 15)\t1.0\n",
            "  (0, 16)\t1.0\n",
            "  (0, 18)\t1.0\n",
            "  (0, 52)\t1.0\n",
            "  (0, 136)\t1.0\n",
            "  (0, 190)\t1.0\n",
            "  (0, 206)\t1.0\n",
            "  (0, 211)\t1.0\n",
            "  (0, 213)\t1.0\n",
            "  (0, 215)\t1.0\n",
            "  (0, 217)\t1.0\n",
            "  (0, 219)\t1.0\n",
            "  (1, 0)\t-1.7190657986011253\n",
            "  (1, 1)\t-2.6238099120541896\n",
            "  :\t:\n",
            "  (399, 0)\t1.7277260797023903\n",
            "  (399, 1)\t0.38437691346599695\n",
            "  (399, 2)\t0.26233835705734787\n",
            "  (399, 3)\t1.4157274670140096\n",
            "  (399, 4)\t-0.800289579376776\n",
            "  (399, 5)\t-0.43779689860601223\n",
            "  (399, 6)\t-0.22809911194099816\n",
            "  (399, 7)\t-0.8009411793681561\n",
            "  (399, 8)\t-0.3515670641612571\n",
            "  (399, 9)\t0.3776064712985508\n",
            "  (399, 10)\t-0.4002632276707331\n",
            "  (399, 11)\t1.206721754560125\n",
            "  (399, 13)\t1.0\n",
            "  (399, 15)\t1.0\n",
            "  (399, 16)\t1.0\n",
            "  (399, 18)\t1.0\n",
            "  (399, 61)\t1.0\n",
            "  (399, 127)\t1.0\n",
            "  (399, 199)\t1.0\n",
            "  (399, 205)\t1.0\n",
            "  (399, 210)\t1.0\n",
            "  (399, 213)\t1.0\n",
            "  (399, 215)\t1.0\n",
            "  (399, 217)\t1.0\n",
            "  (399, 219)\t1.0\n"
          ]
        }
      ]
    },
    {
      "cell_type": "markdown",
      "source": [
        "## Cross-Validation Scores"
      ],
      "metadata": {
        "id": "RASOxI_Yp763"
      }
    },
    {
      "cell_type": "code",
      "source": [
        "from sklearn.model_selection import cross_val_score\n",
        "\n",
        "# Define the logistic regression model\n",
        "log_reg_model = LogisticRegression()\n",
        "\n",
        "# Perform k-fold cross-validation\n",
        "cv_scores = cross_val_score(log_reg_model, X_processed, y, cv=5)\n",
        "print(\"Cross-Validation Scores:\", cv_scores)\n",
        "print(\"Mean CV Accuracy:\", cv_scores.mean())\n"
      ],
      "metadata": {
        "colab": {
          "base_uri": "https://localhost:8080/"
        },
        "id": "pZl0UWxM74g7",
        "outputId": "8e330fda-4473-4f9c-8099-16a33f47a2d6"
      },
      "execution_count": 21,
      "outputs": [
        {
          "output_type": "stream",
          "name": "stdout",
          "text": [
            "Cross-Validation Scores: [1.     1.     1.     0.9875 0.9875]\n",
            "Mean CV Accuracy: 0.9949999999999999\n"
          ]
        },
        {
          "output_type": "stream",
          "name": "stderr",
          "text": [
            "/usr/local/lib/python3.10/dist-packages/sklearn/model_selection/_split.py:700: UserWarning: The least populated class in y has only 2 members, which is less than n_splits=5.\n",
            "  warnings.warn(\n"
          ]
        }
      ]
    },
    {
      "cell_type": "markdown",
      "source": [],
      "metadata": {
        "id": "IUI7-l3I9_fq"
      }
    },
    {
      "cell_type": "markdown",
      "source": [
        "**Address Class Imbalance:**"
      ],
      "metadata": {
        "id": "RjS_pQT5-BPh"
      }
    },
    {
      "cell_type": "code",
      "source": [
        "from sklearn.model_selection import train_test_split\n",
        "from sklearn.linear_model import LogisticRegression\n",
        "from sklearn.preprocessing import StandardScaler, OneHotEncoder\n",
        "from sklearn.compose import ColumnTransformer\n",
        "from sklearn.pipeline import Pipeline\n",
        "from sklearn.impute import SimpleImputer\n",
        "\n",
        "# Define numerical and categorical features\n",
        "numeric_features = X.select_dtypes(include=['int64', 'float64']).columns\n",
        "categorical_features = X.select_dtypes(include=['object']).columns\n",
        "\n",
        "# Define preprocessing steps for numerical and categorical features\n",
        "numeric_transformer = Pipeline(steps=[\n",
        "    ('imputer', SimpleImputer(strategy='mean')),  # Impute missing values with mean\n",
        "    ('scaler', StandardScaler())  # Scale numerical features\n",
        "])\n",
        "\n",
        "categorical_transformer = Pipeline(steps=[\n",
        "    ('imputer', SimpleImputer(strategy='most_frequent')),  # Impute missing values with most frequent value\n",
        "    ('onehot', OneHotEncoder(handle_unknown='ignore'))  # One-hot encode categorical features\n",
        "])\n",
        "\n",
        "# Create preprocessing pipeline\n",
        "preprocessor = ColumnTransformer(\n",
        "    transformers=[\n",
        "        ('num', numeric_transformer, numeric_features),\n",
        "        ('cat', categorical_transformer, categorical_features)\n",
        "    ])\n",
        "\n",
        "# Split the data into training and testing sets\n",
        "X_train, X_test, y_train, y_test = train_test_split(X, y, test_size=0.2, random_state=42)\n",
        "\n",
        "# Initialize the logistic regression model with class weights\n",
        "class_weights = {'ckd': 1, 'notckd': 5}  # Adjust the weights as needed\n",
        "log_reg_model = LogisticRegression(class_weight=class_weights)\n",
        "\n",
        "# Create a pipeline with preprocessing and model\n",
        "pipeline = Pipeline(steps=[('preprocessor', preprocessor),\n",
        "                           ('classifier', log_reg_model)])\n",
        "\n",
        "# Train the model\n",
        "pipeline.fit(X_train, y_train)\n",
        "\n",
        "# Evaluate the model's performance on the testing data\n",
        "accuracy = pipeline.score(X_test, y_test)\n",
        "print(\"Accuracy:\", accuracy)\n"
      ],
      "metadata": {
        "colab": {
          "base_uri": "https://localhost:8080/"
        },
        "id": "ZDU66yoBei7G",
        "outputId": "32234356-896d-4324-86e4-187c1a2ca5a1"
      },
      "execution_count": 36,
      "outputs": [
        {
          "output_type": "stream",
          "name": "stdout",
          "text": [
            "Accuracy: 1.0\n"
          ]
        }
      ]
    },
    {
      "cell_type": "markdown",
      "source": [
        "## **Apply Data Augmentation** (model overfit with the data after preprocessing step.)\n"
      ],
      "metadata": {
        "id": "ExpM6OWRqo_g"
      }
    },
    {
      "cell_type": "code",
      "source": [
        "from imblearn.over_sampling import RandomOverSampler\n",
        "from sklearn.model_selection import train_test_split\n",
        "from sklearn.linear_model import LogisticRegression\n",
        "from sklearn.metrics import accuracy_score\n",
        "from sklearn.preprocessing import OneHotEncoder\n",
        "from sklearn.compose import ColumnTransformer\n",
        "from sklearn.pipeline import Pipeline\n",
        "from sklearn.impute import SimpleImputer\n",
        "\n",
        "# Assuming you have already preprocessed your data and defined features (X) and target (y)\n",
        "\n",
        "# Split the original data into training and testing sets\n",
        "X_train, X_test, y_train, y_test = train_test_split(X, y, test_size=0.2, random_state=42)\n",
        "\n",
        "# Define preprocessing steps for numerical and categorical features\n",
        "numeric_features = X.select_dtypes(include=['int64', 'float64']).columns\n",
        "categorical_features = X.select_dtypes(include=['object']).columns\n",
        "\n",
        "numeric_transformer = Pipeline(steps=[\n",
        "    ('imputer', SimpleImputer(strategy='mean')),  # Impute missing values with mean\n",
        "])\n",
        "\n",
        "categorical_transformer = Pipeline(steps=[\n",
        "    ('imputer', SimpleImputer(strategy='most_frequent')),  # Impute missing values with most frequent value\n",
        "    ('onehot', OneHotEncoder(handle_unknown='ignore'))  # One-hot encode categorical features\n",
        "])\n",
        "\n",
        "preprocessor = ColumnTransformer(\n",
        "    transformers=[\n",
        "        ('num', numeric_transformer, numeric_features),\n",
        "        ('cat', categorical_transformer, categorical_features)\n",
        "    ])\n",
        "\n",
        "# Apply preprocessing to the training data\n",
        "X_train_preprocessed = preprocessor.fit_transform(X_train)\n",
        "\n",
        "# Apply RandomOverSampler to perform oversampling on the preprocessed training data\n",
        "ros = RandomOverSampler()\n",
        "X_train_augmented, y_train_augmented = ros.fit_resample(X_train_preprocessed, y_train)\n",
        "\n",
        "# Initialize and train the logistic regression model on the augmented training data\n",
        "log_reg_model = LogisticRegression()\n",
        "log_reg_model.fit(X_train_augmented, y_train_augmented)\n",
        "\n",
        "# Apply preprocessing to the testing data\n",
        "X_test_preprocessed = preprocessor.transform(X_test)\n",
        "\n",
        "# Evaluate the model on the original testing set\n",
        "y_pred = log_reg_model.predict(X_test_preprocessed)\n",
        "accuracy = accuracy_score(y_test, y_pred)\n",
        "print(\"Accuracy on original testing set:\", accuracy)\n"
      ],
      "metadata": {
        "colab": {
          "base_uri": "https://localhost:8080/"
        },
        "id": "RqrZpLHLfPcj",
        "outputId": "350bb50f-038b-4d93-ec10-e62738587caf"
      },
      "execution_count": 39,
      "outputs": [
        {
          "output_type": "stream",
          "name": "stdout",
          "text": [
            "Accuracy on original testing set: 0.975\n"
          ]
        },
        {
          "output_type": "stream",
          "name": "stderr",
          "text": [
            "/usr/local/lib/python3.10/dist-packages/sklearn/linear_model/_logistic.py:458: ConvergenceWarning: lbfgs failed to converge (status=1):\n",
            "STOP: TOTAL NO. of ITERATIONS REACHED LIMIT.\n",
            "\n",
            "Increase the number of iterations (max_iter) or scale the data as shown in:\n",
            "    https://scikit-learn.org/stable/modules/preprocessing.html\n",
            "Please also refer to the documentation for alternative solver options:\n",
            "    https://scikit-learn.org/stable/modules/linear_model.html#logistic-regression\n",
            "  n_iter_i = _check_optimize_result(\n"
          ]
        }
      ]
    },
    {
      "cell_type": "code",
      "source": [
        "# Print the number of records in the original dataset\n",
        "print(\"Number of records in the original dataset:\", len(X))\n",
        "\n",
        "# Print the number of records in the training and testing sets\n",
        "print(\"Number of records in the training set:\", X_train_augmented.shape[0])\n",
        "print(\"Number of records in the testing set:\", len(X_test))\n"
      ],
      "metadata": {
        "colab": {
          "base_uri": "https://localhost:8080/"
        },
        "id": "xlIHWmirsVLa",
        "outputId": "0202f1a9-60d8-446a-a3a6-2e9e5db0f26b"
      },
      "execution_count": 57,
      "outputs": [
        {
          "output_type": "stream",
          "name": "stdout",
          "text": [
            "Number of records in the original dataset: 400\n",
            "Number of records in the training set: 588\n",
            "Number of records in the testing set: 80\n"
          ]
        }
      ]
    },
    {
      "cell_type": "code",
      "source": [
        "# After training the model and making predictions\n",
        "\n",
        "# Generate classification report\n",
        "classification_rep = classification_report(y_test, y_pred)\n",
        "\n",
        "# Print the classification report\n",
        "print(\"Classification Report:\")\n",
        "print(classification_rep)\n"
      ],
      "metadata": {
        "colab": {
          "base_uri": "https://localhost:8080/"
        },
        "id": "RXoARdtyg4er",
        "outputId": "4816b63f-913f-4194-f31d-a4ccfb2cb952"
      },
      "execution_count": 43,
      "outputs": [
        {
          "output_type": "stream",
          "name": "stdout",
          "text": [
            "Classification Report:\n",
            "              precision    recall  f1-score   support\n",
            "\n",
            "         ckd       1.00      0.96      0.98        52\n",
            "        ckd\t       0.00      0.00      0.00         0\n",
            "      notckd       0.97      1.00      0.98        28\n",
            "\n",
            "    accuracy                           0.97        80\n",
            "   macro avg       0.66      0.65      0.65        80\n",
            "weighted avg       0.99      0.97      0.98        80\n",
            "\n"
          ]
        },
        {
          "output_type": "stream",
          "name": "stderr",
          "text": [
            "/usr/local/lib/python3.10/dist-packages/sklearn/metrics/_classification.py:1344: UndefinedMetricWarning: Recall and F-score are ill-defined and being set to 0.0 in labels with no true samples. Use `zero_division` parameter to control this behavior.\n",
            "  _warn_prf(average, modifier, msg_start, len(result))\n",
            "/usr/local/lib/python3.10/dist-packages/sklearn/metrics/_classification.py:1344: UndefinedMetricWarning: Recall and F-score are ill-defined and being set to 0.0 in labels with no true samples. Use `zero_division` parameter to control this behavior.\n",
            "  _warn_prf(average, modifier, msg_start, len(result))\n",
            "/usr/local/lib/python3.10/dist-packages/sklearn/metrics/_classification.py:1344: UndefinedMetricWarning: Recall and F-score are ill-defined and being set to 0.0 in labels with no true samples. Use `zero_division` parameter to control this behavior.\n",
            "  _warn_prf(average, modifier, msg_start, len(result))\n"
          ]
        }
      ]
    },
    {
      "cell_type": "code",
      "source": [
        "# Calculate correct and incorrect predictions\n",
        "correct_predictions = (y_pred == y_test).sum()\n",
        "incorrect_predictions = len(y_test) - correct_predictions\n",
        "\n",
        "# Calculate percentages\n",
        "total_predictions = len(y_test)\n",
        "correct_percentage = (correct_predictions / total_predictions) * 100\n",
        "incorrect_percentage = (incorrect_predictions / total_predictions) * 100\n",
        "\n",
        "# Create labels and values for the pie chart\n",
        "labels = ['Correct Predictions', 'Incorrect Predictions']\n",
        "sizes = [correct_percentage, incorrect_percentage]\n",
        "colors = ['#77DD77', '#FF6961']\n",
        "\n",
        "# Plot the pie chart\n",
        "plt.figure(figsize=(8, 6))\n",
        "plt.pie(sizes, labels=labels, colors=colors, autopct='%1.1f%%', startangle=140)\n",
        "plt.title('Accuracy Pie Chart')\n",
        "plt.axis('equal')  # Equal aspect ratio ensures that pie is drawn as a circle.\n",
        "plt.show()\n"
      ],
      "metadata": {
        "colab": {
          "base_uri": "https://localhost:8080/",
          "height": 521
        },
        "id": "Na7UiN4DhxLb",
        "outputId": "0f3c524d-87d5-4d68-fac7-6fa1887870f6"
      },
      "execution_count": 44,
      "outputs": [
        {
          "output_type": "display_data",
          "data": {
            "text/plain": [
              "<Figure size 800x600 with 1 Axes>"
            ],
            "image/png": "[encoded data removed]"
          },
          "metadata": {}
        }
      ]
    },
    {
      "cell_type": "code",
      "source": [
        "# Choose a random subset of samples from the test dataset\n",
        "sample_indices = random.sample(range(len(X_test)), 5)\n",
        "sample_X = X_test.iloc[sample_indices]\n",
        "sample_y_true = y_test.iloc[sample_indices]\n",
        "\n",
        "# Preprocess the selected samples\n",
        "sample_X_processed = preprocessor.transform(sample_X)\n",
        "\n",
        "# Predict labels for the selected samples\n",
        "sample_y_pred = log_reg_model.predict(sample_X_processed)\n",
        "\n",
        "# Compare predicted labels with actual labels\n",
        "for i in range(len(sample_indices)):\n",
        "    print(f\"Sample {i+1}:\")\n",
        "    print(\"Input data:\", sample_X.iloc[i])\n",
        "    print(\"True label:\", sample_y_true.iloc[i])\n",
        "    print(\"Predicted label:\", sample_y_pred[i])\n",
        "    print()"
      ],
      "metadata": {
        "colab": {
          "base_uri": "https://localhost:8080/"
        },
        "id": "AcxYp7jmjuvF",
        "outputId": "ab66ac3f-6424-42b8-f141-c818cd33dd8f"
      },
      "execution_count": 51,
      "outputs": [
        {
          "output_type": "stream",
          "name": "stdout",
          "text": [
            "Sample 1:\n",
            "Input data: id              246\n",
            "age            48.0\n",
            "bp            110.0\n",
            "sg            1.015\n",
            "al              3.0\n",
            "su              0.0\n",
            "rbc        abnormal\n",
            "pc           normal\n",
            "pcc         present\n",
            "ba       notpresent\n",
            "bgr           106.0\n",
            "bu            215.0\n",
            "sc             15.2\n",
            "sod           120.0\n",
            "pot             5.7\n",
            "hemo            8.6\n",
            "pcv              26\n",
            "wc             5000\n",
            "rc              2.5\n",
            "htn             yes\n",
            "dm               no\n",
            "cad             yes\n",
            "appet          good\n",
            "pe               no\n",
            "ane             yes\n",
            "Name: 246, dtype: object\n",
            "True label: ckd\n",
            "Predicted label: ckd\n",
            "\n",
            "Sample 2:\n",
            "Input data: id              227\n",
            "age            57.0\n",
            "bp             80.0\n",
            "sg            1.015\n",
            "al              0.0\n",
            "su              0.0\n",
            "rbc             NaN\n",
            "pc           normal\n",
            "pcc      notpresent\n",
            "ba       notpresent\n",
            "bgr           120.0\n",
            "bu             48.0\n",
            "sc              1.6\n",
            "sod             NaN\n",
            "pot             NaN\n",
            "hemo           11.3\n",
            "pcv              36\n",
            "wc             7200\n",
            "rc              3.8\n",
            "htn             yes\n",
            "dm              yes\n",
            "cad              no\n",
            "appet          good\n",
            "pe               no\n",
            "ane              no\n",
            "Name: 227, dtype: object\n",
            "True label: ckd\n",
            "Predicted label: ckd\n",
            "\n",
            "Sample 3:\n",
            "Input data: id              374\n",
            "age            79.0\n",
            "bp             80.0\n",
            "sg            1.025\n",
            "al              0.0\n",
            "su              0.0\n",
            "rbc          normal\n",
            "pc           normal\n",
            "pcc      notpresent\n",
            "ba       notpresent\n",
            "bgr           111.0\n",
            "bu             44.0\n",
            "sc              1.2\n",
            "sod           146.0\n",
            "pot             3.6\n",
            "hemo           16.3\n",
            "pcv              40\n",
            "wc             8000\n",
            "rc              6.4\n",
            "htn              no\n",
            "dm               no\n",
            "cad              no\n",
            "appet          good\n",
            "pe               no\n",
            "ane              no\n",
            "Name: 374, dtype: object\n",
            "True label: notckd\n",
            "Predicted label: notckd\n",
            "\n",
            "Sample 4:\n",
            "Input data: id              280\n",
            "age            47.0\n",
            "bp             80.0\n",
            "sg              NaN\n",
            "al              NaN\n",
            "su              NaN\n",
            "rbc             NaN\n",
            "pc              NaN\n",
            "pcc      notpresent\n",
            "ba       notpresent\n",
            "bgr            93.0\n",
            "bu             33.0\n",
            "sc              0.9\n",
            "sod           144.0\n",
            "pot             4.5\n",
            "hemo           13.3\n",
            "pcv              52\n",
            "wc             8100\n",
            "rc              5.2\n",
            "htn              no\n",
            "dm               no\n",
            "cad              no\n",
            "appet          good\n",
            "pe               no\n",
            "ane              no\n",
            "Name: 280, dtype: object\n",
            "True label: notckd\n",
            "Predicted label: notckd\n",
            "\n",
            "Sample 5:\n",
            "Input data: id              261\n",
            "age            49.0\n",
            "bp             80.0\n",
            "sg             1.02\n",
            "al              0.0\n",
            "su              0.0\n",
            "rbc          normal\n",
            "pc           normal\n",
            "pcc      notpresent\n",
            "ba       notpresent\n",
            "bgr           122.0\n",
            "bu             32.0\n",
            "sc              1.2\n",
            "sod           139.0\n",
            "pot             3.9\n",
            "hemo           17.0\n",
            "pcv              41\n",
            "wc             5600\n",
            "rc              4.9\n",
            "htn              no\n",
            "dm               no\n",
            "cad              no\n",
            "appet          good\n",
            "pe               no\n",
            "ane              no\n",
            "Name: 261, dtype: object\n",
            "True label: notckd\n",
            "Predicted label: notckd\n",
            "\n"
          ]
        }
      ]
    }
  ]
}