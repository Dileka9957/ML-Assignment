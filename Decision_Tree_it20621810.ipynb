{
 "cells": [
  {
   "cell_type": "code",
   "execution_count": 77,
   "id": "24d08d2d",
   "metadata": {},
   "outputs": [],
   "source": [
    "# Import necessary libraries\n",
    "import pandas as pd\n",
    "import matplotlib.pyplot as plt\n",
    "from sklearn.tree import DecisionTreeClassifier\n",
    "from sklearn.model_selection import train_test_split\n",
    "from sklearn.metrics import accuracy_score, classification_report\n",
    "from sklearn.preprocessing import StandardScaler\n",
    "from sklearn.impute import SimpleImputer"
   ]
  },
  {
   "cell_type": "code",
   "execution_count": 78,
   "id": "a06493f5",
   "metadata": {},
   "outputs": [],
   "source": [
    "# Load the dataset into a DataFrame\n",
    "data = pd.read_csv(\"kidney_disease.csv\")"
   ]
  },
  {
   "cell_type": "code",
   "execution_count": 102,
   "id": "403682d3",
   "metadata": {},
   "outputs": [
    {
     "name": "stdout",
     "output_type": "stream",
     "text": [
      "First few rows of the dataset:\n"
     ]
    },
    {
     "data": {
      "text/html": [
       "<div>\n",
       "<style scoped>\n",
       "    .dataframe tbody tr th:only-of-type {\n",
       "        vertical-align: middle;\n",
       "    }\n",
       "\n",
       "    .dataframe tbody tr th {\n",
       "        vertical-align: top;\n",
       "    }\n",
       "\n",
       "    .dataframe thead th {\n",
       "        text-align: right;\n",
       "    }\n",
       "</style>\n",
       "<table border=\"1\" class=\"dataframe\">\n",
       "  <thead>\n",
       "    <tr style=\"text-align: right;\">\n",
       "      <th></th>\n",
       "      <th>id</th>\n",
       "      <th>age</th>\n",
       "      <th>bp</th>\n",
       "      <th>sg</th>\n",
       "      <th>al</th>\n",
       "      <th>su</th>\n",
       "      <th>rbc</th>\n",
       "      <th>pc</th>\n",
       "      <th>pcc</th>\n",
       "      <th>ba</th>\n",
       "      <th>...</th>\n",
       "      <th>pcv</th>\n",
       "      <th>wc</th>\n",
       "      <th>rc</th>\n",
       "      <th>htn</th>\n",
       "      <th>dm</th>\n",
       "      <th>cad</th>\n",
       "      <th>appet</th>\n",
       "      <th>pe</th>\n",
       "      <th>ane</th>\n",
       "      <th>classification</th>\n",
       "    </tr>\n",
       "  </thead>\n",
       "  <tbody>\n",
       "    <tr>\n",
       "      <th>0</th>\n",
       "      <td>0.0</td>\n",
       "      <td>48.0</td>\n",
       "      <td>80.0</td>\n",
       "      <td>1.020</td>\n",
       "      <td>1.0</td>\n",
       "      <td>0.0</td>\n",
       "      <td>normal</td>\n",
       "      <td>normal</td>\n",
       "      <td>notpresent</td>\n",
       "      <td>notpresent</td>\n",
       "      <td>...</td>\n",
       "      <td>44</td>\n",
       "      <td>7800</td>\n",
       "      <td>5.2</td>\n",
       "      <td>yes</td>\n",
       "      <td>yes</td>\n",
       "      <td>no</td>\n",
       "      <td>good</td>\n",
       "      <td>no</td>\n",
       "      <td>no</td>\n",
       "      <td>ckd</td>\n",
       "    </tr>\n",
       "    <tr>\n",
       "      <th>1</th>\n",
       "      <td>1.0</td>\n",
       "      <td>7.0</td>\n",
       "      <td>50.0</td>\n",
       "      <td>1.020</td>\n",
       "      <td>4.0</td>\n",
       "      <td>0.0</td>\n",
       "      <td>normal</td>\n",
       "      <td>normal</td>\n",
       "      <td>notpresent</td>\n",
       "      <td>notpresent</td>\n",
       "      <td>...</td>\n",
       "      <td>38</td>\n",
       "      <td>6000</td>\n",
       "      <td>5.2</td>\n",
       "      <td>no</td>\n",
       "      <td>no</td>\n",
       "      <td>no</td>\n",
       "      <td>good</td>\n",
       "      <td>no</td>\n",
       "      <td>no</td>\n",
       "      <td>ckd</td>\n",
       "    </tr>\n",
       "    <tr>\n",
       "      <th>2</th>\n",
       "      <td>2.0</td>\n",
       "      <td>62.0</td>\n",
       "      <td>80.0</td>\n",
       "      <td>1.010</td>\n",
       "      <td>2.0</td>\n",
       "      <td>3.0</td>\n",
       "      <td>normal</td>\n",
       "      <td>normal</td>\n",
       "      <td>notpresent</td>\n",
       "      <td>notpresent</td>\n",
       "      <td>...</td>\n",
       "      <td>31</td>\n",
       "      <td>7500</td>\n",
       "      <td>5.2</td>\n",
       "      <td>no</td>\n",
       "      <td>yes</td>\n",
       "      <td>no</td>\n",
       "      <td>poor</td>\n",
       "      <td>no</td>\n",
       "      <td>yes</td>\n",
       "      <td>ckd</td>\n",
       "    </tr>\n",
       "    <tr>\n",
       "      <th>3</th>\n",
       "      <td>3.0</td>\n",
       "      <td>48.0</td>\n",
       "      <td>70.0</td>\n",
       "      <td>1.005</td>\n",
       "      <td>4.0</td>\n",
       "      <td>0.0</td>\n",
       "      <td>normal</td>\n",
       "      <td>abnormal</td>\n",
       "      <td>present</td>\n",
       "      <td>notpresent</td>\n",
       "      <td>...</td>\n",
       "      <td>32</td>\n",
       "      <td>6700</td>\n",
       "      <td>3.9</td>\n",
       "      <td>yes</td>\n",
       "      <td>no</td>\n",
       "      <td>no</td>\n",
       "      <td>poor</td>\n",
       "      <td>yes</td>\n",
       "      <td>yes</td>\n",
       "      <td>ckd</td>\n",
       "    </tr>\n",
       "    <tr>\n",
       "      <th>4</th>\n",
       "      <td>4.0</td>\n",
       "      <td>51.0</td>\n",
       "      <td>80.0</td>\n",
       "      <td>1.010</td>\n",
       "      <td>2.0</td>\n",
       "      <td>0.0</td>\n",
       "      <td>normal</td>\n",
       "      <td>normal</td>\n",
       "      <td>notpresent</td>\n",
       "      <td>notpresent</td>\n",
       "      <td>...</td>\n",
       "      <td>35</td>\n",
       "      <td>7300</td>\n",
       "      <td>4.6</td>\n",
       "      <td>no</td>\n",
       "      <td>no</td>\n",
       "      <td>no</td>\n",
       "      <td>good</td>\n",
       "      <td>no</td>\n",
       "      <td>no</td>\n",
       "      <td>ckd</td>\n",
       "    </tr>\n",
       "  </tbody>\n",
       "</table>\n",
       "<p>5 rows × 26 columns</p>\n",
       "</div>"
      ],
      "text/plain": [
       "    id   age    bp     sg   al   su     rbc        pc         pcc          ba  \\\n",
       "0  0.0  48.0  80.0  1.020  1.0  0.0  normal    normal  notpresent  notpresent   \n",
       "1  1.0   7.0  50.0  1.020  4.0  0.0  normal    normal  notpresent  notpresent   \n",
       "2  2.0  62.0  80.0  1.010  2.0  3.0  normal    normal  notpresent  notpresent   \n",
       "3  3.0  48.0  70.0  1.005  4.0  0.0  normal  abnormal     present  notpresent   \n",
       "4  4.0  51.0  80.0  1.010  2.0  0.0  normal    normal  notpresent  notpresent   \n",
       "\n",
       "   ...  pcv    wc   rc  htn   dm  cad appet   pe  ane classification  \n",
       "0  ...   44  7800  5.2  yes  yes   no  good   no   no            ckd  \n",
       "1  ...   38  6000  5.2   no   no   no  good   no   no            ckd  \n",
       "2  ...   31  7500  5.2   no  yes   no  poor   no  yes            ckd  \n",
       "3  ...   32  6700  3.9  yes   no   no  poor  yes  yes            ckd  \n",
       "4  ...   35  7300  4.6   no   no   no  good   no   no            ckd  \n",
       "\n",
       "[5 rows x 26 columns]"
      ]
     },
     "execution_count": 102,
     "metadata": {},
     "output_type": "execute_result"
    }
   ],
   "source": [
    "# Display the first few rows of the dataset\n",
    "print(\"First few rows of the dataset:\")\n",
    "data.head()"
   ]
  },
  {
   "cell_type": "code",
   "execution_count": 79,
   "id": "2c661600",
   "metadata": {},
   "outputs": [],
   "source": [
    "# Check for missing values\n",
    "missing_values = data.isnull().sum()"
   ]
  },
  {
   "cell_type": "code",
   "execution_count": 80,
   "id": "8a18a9a4",
   "metadata": {},
   "outputs": [],
   "source": [
    "# Create an imputer object with strategy='mean' to impute missing values with mean\n",
    "imputer = SimpleImputer(strategy='mean')"
   ]
  },
  {
   "cell_type": "code",
   "execution_count": 81,
   "id": "0160a0b7",
   "metadata": {},
   "outputs": [],
   "source": [
    "# Impute missing values for numerical columns\n",
    "num_columns = data.select_dtypes(include=['int64', 'float64']).columns\n",
    "data[num_columns] = imputer.fit_transform(data[num_columns])"
   ]
  },
  {
   "cell_type": "code",
   "execution_count": 82,
   "id": "2ea0e6cf",
   "metadata": {},
   "outputs": [],
   "source": [
    "# Impute missing values for categorical columns \n",
    "cat_columns = data.select_dtypes(include=['object']).columns\n",
    "for col in cat_columns:\n",
    "    data[col].fillna(data[col].mode()[0], inplace=True)"
   ]
  },
  {
   "cell_type": "code",
   "execution_count": 83,
   "id": "fda62b6c",
   "metadata": {},
   "outputs": [],
   "source": [
    "# One-hot encoding for categorical variables\n",
    "data_encoded = pd.get_dummies(data, columns=cat_columns)"
   ]
  },
  {
   "cell_type": "code",
   "execution_count": 84,
   "id": "82610b27",
   "metadata": {},
   "outputs": [],
   "source": [
    "# Initialize a StandardScaler object\n",
    "scaler = StandardScaler()"
   ]
  },
  {
   "cell_type": "code",
   "execution_count": 85,
   "id": "c54b1c51",
   "metadata": {},
   "outputs": [],
   "source": [
    "# Scale numerical features\n",
    "data_scaled = scaler.fit_transform(data_encoded[num_columns])"
   ]
  },
  {
   "cell_type": "code",
   "execution_count": 86,
   "id": "c9a909a9",
   "metadata": {},
   "outputs": [],
   "source": [
    "# Replace original numerical columns with scaled values\n",
    "data_encoded[num_columns] = data_scaled"
   ]
  },
  {
   "cell_type": "code",
   "execution_count": 87,
   "id": "d7f0fc42",
   "metadata": {},
   "outputs": [],
   "source": [
    "# Split the dataset into features (X) and target variable (y)\n",
    "X = data_encoded.drop(columns=['classification_ckd', 'classification_ckd\\t', 'classification_notckd'], axis=1)\n",
    "y = data_encoded['classification_ckd']"
   ]
  },
  {
   "cell_type": "code",
   "execution_count": 88,
   "id": "7f78bf10",
   "metadata": {},
   "outputs": [],
   "source": [
    "# Split the dataset into training and testing sets\n",
    "X_train, X_test, y_train, y_test = train_test_split(X, y, test_size=0.2, random_state=42)"
   ]
  },
  {
   "cell_type": "code",
   "execution_count": 89,
   "id": "5c501959",
   "metadata": {},
   "outputs": [],
   "source": [
    "# Initialize a DecisionTreeClassifier object\n",
    "dt_model = DecisionTreeClassifier(random_state=42)"
   ]
  },
  {
   "cell_type": "code",
   "execution_count": 90,
   "id": "3a62a3b8",
   "metadata": {},
   "outputs": [
    {
     "data": {
      "text/html": [
       "<style>#sk-container-id-4 {color: black;}#sk-container-id-4 pre{padding: 0;}#sk-container-id-4 div.sk-toggleable {background-color: white;}#sk-container-id-4 label.sk-toggleable__label {cursor: pointer;display: block;width: 100%;margin-bottom: 0;padding: 0.3em;box-sizing: border-box;text-align: center;}#sk-container-id-4 label.sk-toggleable__label-arrow:before {content: \"▸\";float: left;margin-right: 0.25em;color: #696969;}#sk-container-id-4 label.sk-toggleable__label-arrow:hover:before {color: black;}#sk-container-id-4 div.sk-estimator:hover label.sk-toggleable__label-arrow:before {color: black;}#sk-container-id-4 div.sk-toggleable__content {max-height: 0;max-width: 0;overflow: hidden;text-align: left;background-color: #f0f8ff;}#sk-container-id-4 div.sk-toggleable__content pre {margin: 0.2em;color: black;border-radius: 0.25em;background-color: #f0f8ff;}#sk-container-id-4 input.sk-toggleable__control:checked~div.sk-toggleable__content {max-height: 200px;max-width: 100%;overflow: auto;}#sk-container-id-4 input.sk-toggleable__control:checked~label.sk-toggleable__label-arrow:before {content: \"▾\";}#sk-container-id-4 div.sk-estimator input.sk-toggleable__control:checked~label.sk-toggleable__label {background-color: #d4ebff;}#sk-container-id-4 div.sk-label input.sk-toggleable__control:checked~label.sk-toggleable__label {background-color: #d4ebff;}#sk-container-id-4 input.sk-hidden--visually {border: 0;clip: rect(1px 1px 1px 1px);clip: rect(1px, 1px, 1px, 1px);height: 1px;margin: -1px;overflow: hidden;padding: 0;position: absolute;width: 1px;}#sk-container-id-4 div.sk-estimator {font-family: monospace;background-color: #f0f8ff;border: 1px dotted black;border-radius: 0.25em;box-sizing: border-box;margin-bottom: 0.5em;}#sk-container-id-4 div.sk-estimator:hover {background-color: #d4ebff;}#sk-container-id-4 div.sk-parallel-item::after {content: \"\";width: 100%;border-bottom: 1px solid gray;flex-grow: 1;}#sk-container-id-4 div.sk-label:hover label.sk-toggleable__label {background-color: #d4ebff;}#sk-container-id-4 div.sk-serial::before {content: \"\";position: absolute;border-left: 1px solid gray;box-sizing: border-box;top: 0;bottom: 0;left: 50%;z-index: 0;}#sk-container-id-4 div.sk-serial {display: flex;flex-direction: column;align-items: center;background-color: white;padding-right: 0.2em;padding-left: 0.2em;position: relative;}#sk-container-id-4 div.sk-item {position: relative;z-index: 1;}#sk-container-id-4 div.sk-parallel {display: flex;align-items: stretch;justify-content: center;background-color: white;position: relative;}#sk-container-id-4 div.sk-item::before, #sk-container-id-4 div.sk-parallel-item::before {content: \"\";position: absolute;border-left: 1px solid gray;box-sizing: border-box;top: 0;bottom: 0;left: 50%;z-index: -1;}#sk-container-id-4 div.sk-parallel-item {display: flex;flex-direction: column;z-index: 1;position: relative;background-color: white;}#sk-container-id-4 div.sk-parallel-item:first-child::after {align-self: flex-end;width: 50%;}#sk-container-id-4 div.sk-parallel-item:last-child::after {align-self: flex-start;width: 50%;}#sk-container-id-4 div.sk-parallel-item:only-child::after {width: 0;}#sk-container-id-4 div.sk-dashed-wrapped {border: 1px dashed gray;margin: 0 0.4em 0.5em 0.4em;box-sizing: border-box;padding-bottom: 0.4em;background-color: white;}#sk-container-id-4 div.sk-label label {font-family: monospace;font-weight: bold;display: inline-block;line-height: 1.2em;}#sk-container-id-4 div.sk-label-container {text-align: center;}#sk-container-id-4 div.sk-container {/* jupyter's `normalize.less` sets `[hidden] { display: none; }` but bootstrap.min.css set `[hidden] { display: none !important; }` so we also need the `!important` here to be able to override the default hidden behavior on the sphinx rendered scikit-learn.org. See: https://github.com/scikit-learn/scikit-learn/issues/21755 */display: inline-block !important;position: relative;}#sk-container-id-4 div.sk-text-repr-fallback {display: none;}</style><div id=\"sk-container-id-4\" class=\"sk-top-container\"><div class=\"sk-text-repr-fallback\"><pre>DecisionTreeClassifier(random_state=42)</pre><b>In a Jupyter environment, please rerun this cell to show the HTML representation or trust the notebook. <br />On GitHub, the HTML representation is unable to render, please try loading this page with nbviewer.org.</b></div><div class=\"sk-container\" hidden><div class=\"sk-item\"><div class=\"sk-estimator sk-toggleable\"><input class=\"sk-toggleable__control sk-hidden--visually\" id=\"sk-estimator-id-4\" type=\"checkbox\" checked><label for=\"sk-estimator-id-4\" class=\"sk-toggleable__label sk-toggleable__label-arrow\">DecisionTreeClassifier</label><div class=\"sk-toggleable__content\"><pre>DecisionTreeClassifier(random_state=42)</pre></div></div></div></div></div>"
      ],
      "text/plain": [
       "DecisionTreeClassifier(random_state=42)"
      ]
     },
     "execution_count": 90,
     "metadata": {},
     "output_type": "execute_result"
    }
   ],
   "source": [
    "# Train the model\n",
    "dt_model.fit(X_train, y_train)"
   ]
  },
  {
   "cell_type": "code",
   "execution_count": 91,
   "id": "52851d3e",
   "metadata": {},
   "outputs": [],
   "source": [
    "# Predict the target variable for the testing set\n",
    "y_pred_dt = dt_model.predict(X_test)"
   ]
  },
  {
   "cell_type": "code",
   "execution_count": 92,
   "id": "f2a18e37",
   "metadata": {},
   "outputs": [
    {
     "name": "stdout",
     "output_type": "stream",
     "text": [
      "Accuracy: 0.9875\n"
     ]
    }
   ],
   "source": [
    "# Calculate the accuracy of the model\n",
    "accuracy_dt = accuracy_score(y_test, y_pred_dt)\n",
    "print(\"Accuracy:\", accuracy_dt)"
   ]
  },
  {
   "cell_type": "code",
   "execution_count": 93,
   "id": "9d2ccc4c",
   "metadata": {},
   "outputs": [
    {
     "name": "stdout",
     "output_type": "stream",
     "text": [
      "              precision    recall  f1-score   support\n",
      "\n",
      "       False       0.97      1.00      0.98        28\n",
      "        True       1.00      0.98      0.99        52\n",
      "\n",
      "    accuracy                           0.99        80\n",
      "   macro avg       0.98      0.99      0.99        80\n",
      "weighted avg       0.99      0.99      0.99        80\n",
      "\n"
     ]
    }
   ],
   "source": [
    "# Display the classification report\n",
    "print(classification_report(y_test, y_pred_dt))"
   ]
  },
  {
   "cell_type": "code",
   "execution_count": 94,
   "id": "fd571123",
   "metadata": {},
   "outputs": [],
   "source": [
    "# Calculate the accuracy and the inverse of the accuracy\n",
    "accuracy_value_dt = accuracy_score(y_test, y_pred_dt)\n",
    "inaccuracy_value_dt = 1 - accuracy_value_dt"
   ]
  },
  {
   "cell_type": "code",
   "execution_count": 95,
   "id": "214b1ed1",
   "metadata": {},
   "outputs": [
    {
     "data": {
      "image/png": "[encoded data removed]",
      "text/plain": [
       "<Figure size 640x480 with 1 Axes>"
      ]
     },
     "metadata": {},
     "output_type": "display_data"
    }
   ],
   "source": [
    "# Plot the pie chart\n",
    "labels = ['Accuracy', 'Inaccuracy']\n",
    "sizes = [accuracy_value_dt, inaccuracy_value_dt]\n",
    "colors = ['lightgreen', 'lightcoral']\n",
    "explode = (0.1, 0)  # explode the first slice (Accuracy)\n",
    "\n",
    "plt.pie(sizes, explode=explode, labels=labels, colors=colors, autopct='%1.1f%%', shadow=True, startangle=140)\n",
    "plt.axis('equal')  # Equal aspect ratio ensures that pie is drawn as a circle.\n",
    "plt.title('Accuracy Pie Chart')\n",
    "plt.show()"
   ]
  },
  {
   "cell_type": "code",
   "execution_count": 96,
   "id": "5a641d17",
   "metadata": {},
   "outputs": [],
   "source": [
    "# Compare predicted labels with actual labels\n",
    "correct_predictions_dt = (y_pred_dt == y_test)"
   ]
  },
  {
   "cell_type": "code",
   "execution_count": 97,
   "id": "a5a4e243",
   "metadata": {},
   "outputs": [
    {
     "name": "stdout",
     "output_type": "stream",
     "text": [
      "Indices of incorrect predictions: [75]\n"
     ]
    }
   ],
   "source": [
    "# Print the indices of incorrect predictions\n",
    "incorrect_indices_dt = [i for i, correct in enumerate(correct_predictions_dt) if not correct]\n",
    "print(\"Indices of incorrect predictions:\", incorrect_indices_dt)"
   ]
  },
  {
   "cell_type": "code",
   "execution_count": 98,
   "id": "6e44b5d4",
   "metadata": {},
   "outputs": [
    {
     "name": "stdout",
     "output_type": "stream",
     "text": [
      "Incorrect predictions:\n",
      "Actual: True \tPredicted: False\n"
     ]
    }
   ],
   "source": [
    "# Print the actual and predicted labels for incorrect predictions\n",
    "print(\"Incorrect predictions:\")\n",
    "for index in incorrect_indices_dt:\n",
    "    print(\"Actual:\", y_test.iloc[index], \"\\tPredicted:\", y_pred_dt[index])"
   ]
  },
  {
   "cell_type": "code",
   "execution_count": 99,
   "id": "1ec7287f",
   "metadata": {},
   "outputs": [],
   "source": [
    "# Compare predicted labels with actual labels\n",
    "correct_predictions_dt = (y_pred_dt == y_test)"
   ]
  },
  {
   "cell_type": "code",
   "execution_count": 100,
   "id": "97ee8a93",
   "metadata": {},
   "outputs": [
    {
     "name": "stdout",
     "output_type": "stream",
     "text": [
      "Indices of correct predictions: [0, 1, 2, 3, 4, 5, 6, 7, 8, 9, 10, 11, 12, 13, 14, 15, 16, 17, 18, 19, 20, 21, 22, 23, 24, 25, 26, 27, 28, 29, 30, 31, 32, 33, 34, 35, 36, 37, 38, 39, 40, 41, 42, 43, 44, 45, 46, 47, 48, 49, 50, 51, 52, 53, 54, 55, 56, 57, 58, 59, 60, 61, 62, 63, 64, 65, 66, 67, 68, 69, 70, 71, 72, 73, 74, 76, 77, 78, 79]\n"
     ]
    }
   ],
   "source": [
    "# Print the indices of correct predictions\n",
    "correct_indices_dt = [i for i, correct in enumerate(correct_predictions_dt) if correct]\n",
    "print(\"Indices of correct predictions:\", correct_indices_dt)"
   ]
  },
  {
   "cell_type": "code",
   "execution_count": 101,
   "id": "0e27349b",
   "metadata": {},
   "outputs": [
    {
     "name": "stdout",
     "output_type": "stream",
     "text": [
      "Correct predictions:\n",
      "Actual: True \tPredicted: True\n",
      "Actual: False \tPredicted: False\n",
      "Actual: True \tPredicted: True\n",
      "Actual: True \tPredicted: True\n",
      "Actual: True \tPredicted: True\n",
      "Actual: True \tPredicted: True\n",
      "Actual: False \tPredicted: False\n",
      "Actual: True \tPredicted: True\n",
      "Actual: False \tPredicted: False\n",
      "Actual: True \tPredicted: True\n",
      "Actual: True \tPredicted: True\n",
      "Actual: False \tPredicted: False\n",
      "Actual: True \tPredicted: True\n",
      "Actual: True \tPredicted: True\n",
      "Actual: True \tPredicted: True\n",
      "Actual: True \tPredicted: True\n",
      "Actual: False \tPredicted: False\n",
      "Actual: False \tPredicted: False\n",
      "Actual: True \tPredicted: True\n",
      "Actual: False \tPredicted: False\n",
      "Actual: True \tPredicted: True\n",
      "Actual: True \tPredicted: True\n",
      "Actual: False \tPredicted: False\n",
      "Actual: False \tPredicted: False\n",
      "Actual: True \tPredicted: True\n",
      "Actual: False \tPredicted: False\n",
      "Actual: True \tPredicted: True\n",
      "Actual: True \tPredicted: True\n",
      "Actual: False \tPredicted: False\n",
      "Actual: True \tPredicted: True\n",
      "Actual: False \tPredicted: False\n",
      "Actual: True \tPredicted: True\n",
      "Actual: False \tPredicted: False\n",
      "Actual: True \tPredicted: True\n",
      "Actual: True \tPredicted: True\n",
      "Actual: True \tPredicted: True\n",
      "Actual: True \tPredicted: True\n",
      "Actual: False \tPredicted: False\n",
      "Actual: True \tPredicted: True\n",
      "Actual: True \tPredicted: True\n",
      "Actual: False \tPredicted: False\n",
      "Actual: True \tPredicted: True\n",
      "Actual: True \tPredicted: True\n",
      "Actual: True \tPredicted: True\n",
      "Actual: True \tPredicted: True\n",
      "Actual: False \tPredicted: False\n",
      "Actual: True \tPredicted: True\n",
      "Actual: True \tPredicted: True\n",
      "Actual: True \tPredicted: True\n",
      "Actual: True \tPredicted: True\n",
      "Actual: True \tPredicted: True\n",
      "Actual: False \tPredicted: False\n",
      "Actual: False \tPredicted: False\n",
      "Actual: True \tPredicted: True\n",
      "Actual: False \tPredicted: False\n",
      "Actual: True \tPredicted: True\n",
      "Actual: True \tPredicted: True\n",
      "Actual: True \tPredicted: True\n",
      "Actual: True \tPredicted: True\n",
      "Actual: True \tPredicted: True\n",
      "Actual: True \tPredicted: True\n",
      "Actual: False \tPredicted: False\n",
      "Actual: False \tPredicted: False\n",
      "Actual: True \tPredicted: True\n",
      "Actual: True \tPredicted: True\n",
      "Actual: True \tPredicted: True\n",
      "Actual: False \tPredicted: False\n",
      "Actual: False \tPredicted: False\n",
      "Actual: False \tPredicted: False\n",
      "Actual: True \tPredicted: True\n",
      "Actual: False \tPredicted: False\n",
      "Actual: True \tPredicted: True\n",
      "Actual: True \tPredicted: True\n",
      "Actual: True \tPredicted: True\n",
      "Actual: False \tPredicted: False\n",
      "Actual: True \tPredicted: True\n",
      "Actual: False \tPredicted: False\n",
      "Actual: True \tPredicted: True\n",
      "Actual: False \tPredicted: False\n"
     ]
    }
   ],
   "source": [
    "# Print the actual and predicted labels for correct predictions\n",
    "print(\"Correct predictions:\")\n",
    "for index in correct_indices_dt:\n",
    "    print(\"Actual:\", y_test.iloc[index], \"\\tPredicted:\", y_pred_dt[index])"
   ]
  },
  {
   "cell_type": "code",
   "execution_count": null,
   "id": "e6460341",
   "metadata": {},
   "outputs": [],
   "source": []
  }
 ],
 "metadata": {
  "kernelspec": {
   "display_name": "Python 3 (ipykernel)",
   "language": "python",
   "name": "python3"
  },
  "language_info": {
   "codemirror_mode": {
    "name": "ipython",
    "version": 3
   },
   "file_extension": ".py",
   "mimetype": "text/x-python",
   "name": "python",
   "nbconvert_exporter": "python",
   "pygments_lexer": "ipython3",
   "version": "3.11.5"
  }
 },
 "nbformat": 4,
 "nbformat_minor": 5
}
